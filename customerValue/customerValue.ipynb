{
 "cells": [
  {
   "cell_type": "markdown",
   "metadata": {},
   "source": [
    "## Customer Value Analysis\n",
    "\n",
    "A análise do valor do cliente é usada para estimar o valor total dos clientes para a empres ao longo de seu relacionamento com a mesma. Esse tipo de análise ajuda as empresas a determinarem quanto investir na aquisição e retenção de clientes, bem como a identificar os clientes mais valiosos para priorizar nos esforços de retenção.\n",
    "\n",
    "<i>Para esta análise estaremos utilizando a base de dados do e-commerce brasileiro Olist.</i>"
   ]
  },
  {
   "cell_type": "code",
   "execution_count": 1,
   "metadata": {},
   "outputs": [
    {
     "name": "stderr",
     "output_type": "stream",
     "text": [
      "/home/matheusv/anaconda3/lib/python3.10/site-packages/pandas/core/arrays/masked.py:60: UserWarning: Pandas requires version '1.3.6' or newer of 'bottleneck' (version '1.3.5' currently installed).\n",
      "  from pandas.core import (\n"
     ]
    },
    {
     "data": {
      "text/html": [
       "        <script type=\"text/javascript\">\n",
       "        window.PlotlyConfig = {MathJaxConfig: 'local'};\n",
       "        if (window.MathJax && window.MathJax.Hub && window.MathJax.Hub.Config) {window.MathJax.Hub.Config({SVG: {font: \"STIX-Web\"}});}\n",
       "        if (typeof require !== 'undefined') {\n",
       "        require.undef(\"plotly\");\n",
       "        requirejs.config({\n",
       "            paths: {\n",
       "                'plotly': ['https://cdn.plot.ly/plotly-2.12.1.min']\n",
       "            }\n",
       "        });\n",
       "        require(['plotly'], function(Plotly) {\n",
       "            window._Plotly = Plotly;\n",
       "        });\n",
       "        }\n",
       "        </script>\n",
       "        "
      ]
     },
     "metadata": {},
     "output_type": "display_data"
    }
   ],
   "source": [
    "import pandas as pd\n",
    "import numpy as np\n",
    "import matplotlib.pyplot as plt \n",
    "import plotly.graph_objects as go\n",
    "import seaborn as sns\n",
    "import plotly.express as px\n",
    "from plotly.offline import init_notebook_mode, iplot\n",
    "from dataviz_utils import *\n",
    "init_notebook_mode(connected=True)\n",
    "import datetime\n",
    "import warnings\n",
    "warnings.filterwarnings(\"ignore\")"
   ]
  },
  {
   "cell_type": "code",
   "execution_count": 2,
   "metadata": {},
   "outputs": [],
   "source": [
    "customers_df = pd.read_csv(\"../data/raw/olist_customers_dataset.csv\")\n",
    "# geo_df = pd.read_csv(\"./data/raw/olist_geolocation_dataset.csv\")\n",
    "orderitem_df = pd.read_csv(\"../data/raw/olist_order_items_dataset.csv\")\n",
    "orderpay_df = pd.read_csv(\"../data/raw/olist_order_payments_dataset.csv\")\n",
    "# orderreviews_df = pd.read_csv(\"./data/raw/olist_order_reviews_dataset.csv\")\n",
    "orders_df = pd.read_csv(\"../data/raw/olist_orders_dataset.csv\")\n",
    "products_df = pd.read_csv(\"../data/raw/olist_products_dataset.csv\")\n",
    "# sellers_df = pd.read_csv(\"./data/raw/olist_sellers_dataset.csv\")\n",
    "categname_df = pd.read_csv(\"../data/raw/product_category_name_translation.csv\")"
   ]
  },
  {
   "cell_type": "code",
   "execution_count": 3,
   "metadata": {},
   "outputs": [
    {
     "data": {
      "text/html": [
       "<div>\n",
       "<style scoped>\n",
       "    .dataframe tbody tr th:only-of-type {\n",
       "        vertical-align: middle;\n",
       "    }\n",
       "\n",
       "    .dataframe tbody tr th {\n",
       "        vertical-align: top;\n",
       "    }\n",
       "\n",
       "    .dataframe thead th {\n",
       "        text-align: right;\n",
       "    }\n",
       "</style>\n",
       "<table border=\"1\" class=\"dataframe\">\n",
       "  <thead>\n",
       "    <tr style=\"text-align: right;\">\n",
       "      <th></th>\n",
       "      <th>customer_id</th>\n",
       "      <th>customer_unique_id</th>\n",
       "      <th>customer_zip_code_prefix</th>\n",
       "      <th>customer_city</th>\n",
       "      <th>customer_state</th>\n",
       "    </tr>\n",
       "  </thead>\n",
       "  <tbody>\n",
       "    <tr>\n",
       "      <th>0</th>\n",
       "      <td>06b8999e2fba1a1fbc88172c00ba8bc7</td>\n",
       "      <td>861eff4711a542e4b93843c6dd7febb0</td>\n",
       "      <td>14409</td>\n",
       "      <td>franca</td>\n",
       "      <td>SP</td>\n",
       "    </tr>\n",
       "    <tr>\n",
       "      <th>1</th>\n",
       "      <td>18955e83d337fd6b2def6b18a428ac77</td>\n",
       "      <td>290c77bc529b7ac935b93aa66c333dc3</td>\n",
       "      <td>9790</td>\n",
       "      <td>sao bernardo do campo</td>\n",
       "      <td>SP</td>\n",
       "    </tr>\n",
       "    <tr>\n",
       "      <th>2</th>\n",
       "      <td>4e7b3e00288586ebd08712fdd0374a03</td>\n",
       "      <td>060e732b5b29e8181a18229c7b0b2b5e</td>\n",
       "      <td>1151</td>\n",
       "      <td>sao paulo</td>\n",
       "      <td>SP</td>\n",
       "    </tr>\n",
       "    <tr>\n",
       "      <th>3</th>\n",
       "      <td>b2b6027bc5c5109e529d4dc6358b12c3</td>\n",
       "      <td>259dac757896d24d7702b9acbbff3f3c</td>\n",
       "      <td>8775</td>\n",
       "      <td>mogi das cruzes</td>\n",
       "      <td>SP</td>\n",
       "    </tr>\n",
       "    <tr>\n",
       "      <th>4</th>\n",
       "      <td>4f2d8ab171c80ec8364f7c12e35b23ad</td>\n",
       "      <td>345ecd01c38d18a9036ed96c73b8d066</td>\n",
       "      <td>13056</td>\n",
       "      <td>campinas</td>\n",
       "      <td>SP</td>\n",
       "    </tr>\n",
       "  </tbody>\n",
       "</table>\n",
       "</div>"
      ],
      "text/plain": [
       "                        customer_id                customer_unique_id  \\\n",
       "0  06b8999e2fba1a1fbc88172c00ba8bc7  861eff4711a542e4b93843c6dd7febb0   \n",
       "1  18955e83d337fd6b2def6b18a428ac77  290c77bc529b7ac935b93aa66c333dc3   \n",
       "2  4e7b3e00288586ebd08712fdd0374a03  060e732b5b29e8181a18229c7b0b2b5e   \n",
       "3  b2b6027bc5c5109e529d4dc6358b12c3  259dac757896d24d7702b9acbbff3f3c   \n",
       "4  4f2d8ab171c80ec8364f7c12e35b23ad  345ecd01c38d18a9036ed96c73b8d066   \n",
       "\n",
       "   customer_zip_code_prefix          customer_city customer_state  \n",
       "0                     14409                 franca             SP  \n",
       "1                      9790  sao bernardo do campo             SP  \n",
       "2                      1151              sao paulo             SP  \n",
       "3                      8775        mogi das cruzes             SP  \n",
       "4                     13056               campinas             SP  "
      ]
     },
     "execution_count": 3,
     "metadata": {},
     "output_type": "execute_result"
    }
   ],
   "source": [
    "customers_df.head()"
   ]
  },
  {
   "cell_type": "code",
   "execution_count": 4,
   "metadata": {},
   "outputs": [
    {
     "data": {
      "text/html": [
       "<div>\n",
       "<style scoped>\n",
       "    .dataframe tbody tr th:only-of-type {\n",
       "        vertical-align: middle;\n",
       "    }\n",
       "\n",
       "    .dataframe tbody tr th {\n",
       "        vertical-align: top;\n",
       "    }\n",
       "\n",
       "    .dataframe thead th {\n",
       "        text-align: right;\n",
       "    }\n",
       "</style>\n",
       "<table border=\"1\" class=\"dataframe\">\n",
       "  <thead>\n",
       "    <tr style=\"text-align: right;\">\n",
       "      <th></th>\n",
       "      <th>order_id</th>\n",
       "      <th>payment_sequential</th>\n",
       "      <th>payment_type</th>\n",
       "      <th>payment_installments</th>\n",
       "      <th>payment_value</th>\n",
       "    </tr>\n",
       "  </thead>\n",
       "  <tbody>\n",
       "    <tr>\n",
       "      <th>0</th>\n",
       "      <td>b81ef226f3fe1789b1e8b2acac839d17</td>\n",
       "      <td>1</td>\n",
       "      <td>credit_card</td>\n",
       "      <td>8</td>\n",
       "      <td>99.33</td>\n",
       "    </tr>\n",
       "    <tr>\n",
       "      <th>1</th>\n",
       "      <td>a9810da82917af2d9aefd1278f1dcfa0</td>\n",
       "      <td>1</td>\n",
       "      <td>credit_card</td>\n",
       "      <td>1</td>\n",
       "      <td>24.39</td>\n",
       "    </tr>\n",
       "    <tr>\n",
       "      <th>2</th>\n",
       "      <td>25e8ea4e93396b6fa0d3dd708e76c1bd</td>\n",
       "      <td>1</td>\n",
       "      <td>credit_card</td>\n",
       "      <td>1</td>\n",
       "      <td>65.71</td>\n",
       "    </tr>\n",
       "    <tr>\n",
       "      <th>3</th>\n",
       "      <td>ba78997921bbcdc1373bb41e913ab953</td>\n",
       "      <td>1</td>\n",
       "      <td>credit_card</td>\n",
       "      <td>8</td>\n",
       "      <td>107.78</td>\n",
       "    </tr>\n",
       "    <tr>\n",
       "      <th>4</th>\n",
       "      <td>42fdf880ba16b47b59251dd489d4441a</td>\n",
       "      <td>1</td>\n",
       "      <td>credit_card</td>\n",
       "      <td>2</td>\n",
       "      <td>128.45</td>\n",
       "    </tr>\n",
       "  </tbody>\n",
       "</table>\n",
       "</div>"
      ],
      "text/plain": [
       "                           order_id  payment_sequential payment_type  \\\n",
       "0  b81ef226f3fe1789b1e8b2acac839d17                   1  credit_card   \n",
       "1  a9810da82917af2d9aefd1278f1dcfa0                   1  credit_card   \n",
       "2  25e8ea4e93396b6fa0d3dd708e76c1bd                   1  credit_card   \n",
       "3  ba78997921bbcdc1373bb41e913ab953                   1  credit_card   \n",
       "4  42fdf880ba16b47b59251dd489d4441a                   1  credit_card   \n",
       "\n",
       "   payment_installments  payment_value  \n",
       "0                     8          99.33  \n",
       "1                     1          24.39  \n",
       "2                     1          65.71  \n",
       "3                     8         107.78  \n",
       "4                     2         128.45  "
      ]
     },
     "execution_count": 4,
     "metadata": {},
     "output_type": "execute_result"
    }
   ],
   "source": [
    "orderpay_df.head()"
   ]
  },
  {
   "cell_type": "code",
   "execution_count": 5,
   "metadata": {},
   "outputs": [
    {
     "data": {
      "text/html": [
       "<div>\n",
       "<style scoped>\n",
       "    .dataframe tbody tr th:only-of-type {\n",
       "        vertical-align: middle;\n",
       "    }\n",
       "\n",
       "    .dataframe tbody tr th {\n",
       "        vertical-align: top;\n",
       "    }\n",
       "\n",
       "    .dataframe thead th {\n",
       "        text-align: right;\n",
       "    }\n",
       "</style>\n",
       "<table border=\"1\" class=\"dataframe\">\n",
       "  <thead>\n",
       "    <tr style=\"text-align: right;\">\n",
       "      <th></th>\n",
       "      <th>order_id</th>\n",
       "      <th>customer_id</th>\n",
       "      <th>order_status</th>\n",
       "      <th>order_purchase_timestamp</th>\n",
       "      <th>order_approved_at</th>\n",
       "      <th>order_delivered_carrier_date</th>\n",
       "      <th>order_delivered_customer_date</th>\n",
       "      <th>order_estimated_delivery_date</th>\n",
       "    </tr>\n",
       "  </thead>\n",
       "  <tbody>\n",
       "    <tr>\n",
       "      <th>0</th>\n",
       "      <td>e481f51cbdc54678b7cc49136f2d6af7</td>\n",
       "      <td>9ef432eb6251297304e76186b10a928d</td>\n",
       "      <td>delivered</td>\n",
       "      <td>2017-10-02 10:56:33</td>\n",
       "      <td>2017-10-02 11:07:15</td>\n",
       "      <td>2017-10-04 19:55:00</td>\n",
       "      <td>2017-10-10 21:25:13</td>\n",
       "      <td>2017-10-18 00:00:00</td>\n",
       "    </tr>\n",
       "    <tr>\n",
       "      <th>1</th>\n",
       "      <td>53cdb2fc8bc7dce0b6741e2150273451</td>\n",
       "      <td>b0830fb4747a6c6d20dea0b8c802d7ef</td>\n",
       "      <td>delivered</td>\n",
       "      <td>2018-07-24 20:41:37</td>\n",
       "      <td>2018-07-26 03:24:27</td>\n",
       "      <td>2018-07-26 14:31:00</td>\n",
       "      <td>2018-08-07 15:27:45</td>\n",
       "      <td>2018-08-13 00:00:00</td>\n",
       "    </tr>\n",
       "    <tr>\n",
       "      <th>2</th>\n",
       "      <td>47770eb9100c2d0c44946d9cf07ec65d</td>\n",
       "      <td>41ce2a54c0b03bf3443c3d931a367089</td>\n",
       "      <td>delivered</td>\n",
       "      <td>2018-08-08 08:38:49</td>\n",
       "      <td>2018-08-08 08:55:23</td>\n",
       "      <td>2018-08-08 13:50:00</td>\n",
       "      <td>2018-08-17 18:06:29</td>\n",
       "      <td>2018-09-04 00:00:00</td>\n",
       "    </tr>\n",
       "    <tr>\n",
       "      <th>3</th>\n",
       "      <td>949d5b44dbf5de918fe9c16f97b45f8a</td>\n",
       "      <td>f88197465ea7920adcdbec7375364d82</td>\n",
       "      <td>delivered</td>\n",
       "      <td>2017-11-18 19:28:06</td>\n",
       "      <td>2017-11-18 19:45:59</td>\n",
       "      <td>2017-11-22 13:39:59</td>\n",
       "      <td>2017-12-02 00:28:42</td>\n",
       "      <td>2017-12-15 00:00:00</td>\n",
       "    </tr>\n",
       "    <tr>\n",
       "      <th>4</th>\n",
       "      <td>ad21c59c0840e6cb83a9ceb5573f8159</td>\n",
       "      <td>8ab97904e6daea8866dbdbc4fb7aad2c</td>\n",
       "      <td>delivered</td>\n",
       "      <td>2018-02-13 21:18:39</td>\n",
       "      <td>2018-02-13 22:20:29</td>\n",
       "      <td>2018-02-14 19:46:34</td>\n",
       "      <td>2018-02-16 18:17:02</td>\n",
       "      <td>2018-02-26 00:00:00</td>\n",
       "    </tr>\n",
       "  </tbody>\n",
       "</table>\n",
       "</div>"
      ],
      "text/plain": [
       "                           order_id                       customer_id  \\\n",
       "0  e481f51cbdc54678b7cc49136f2d6af7  9ef432eb6251297304e76186b10a928d   \n",
       "1  53cdb2fc8bc7dce0b6741e2150273451  b0830fb4747a6c6d20dea0b8c802d7ef   \n",
       "2  47770eb9100c2d0c44946d9cf07ec65d  41ce2a54c0b03bf3443c3d931a367089   \n",
       "3  949d5b44dbf5de918fe9c16f97b45f8a  f88197465ea7920adcdbec7375364d82   \n",
       "4  ad21c59c0840e6cb83a9ceb5573f8159  8ab97904e6daea8866dbdbc4fb7aad2c   \n",
       "\n",
       "  order_status order_purchase_timestamp    order_approved_at  \\\n",
       "0    delivered      2017-10-02 10:56:33  2017-10-02 11:07:15   \n",
       "1    delivered      2018-07-24 20:41:37  2018-07-26 03:24:27   \n",
       "2    delivered      2018-08-08 08:38:49  2018-08-08 08:55:23   \n",
       "3    delivered      2017-11-18 19:28:06  2017-11-18 19:45:59   \n",
       "4    delivered      2018-02-13 21:18:39  2018-02-13 22:20:29   \n",
       "\n",
       "  order_delivered_carrier_date order_delivered_customer_date  \\\n",
       "0          2017-10-04 19:55:00           2017-10-10 21:25:13   \n",
       "1          2018-07-26 14:31:00           2018-08-07 15:27:45   \n",
       "2          2018-08-08 13:50:00           2018-08-17 18:06:29   \n",
       "3          2017-11-22 13:39:59           2017-12-02 00:28:42   \n",
       "4          2018-02-14 19:46:34           2018-02-16 18:17:02   \n",
       "\n",
       "  order_estimated_delivery_date  \n",
       "0           2017-10-18 00:00:00  \n",
       "1           2018-08-13 00:00:00  \n",
       "2           2018-09-04 00:00:00  \n",
       "3           2017-12-15 00:00:00  \n",
       "4           2018-02-26 00:00:00  "
      ]
     },
     "execution_count": 5,
     "metadata": {},
     "output_type": "execute_result"
    }
   ],
   "source": [
    "orders_df = orders_df[orders_df[\"order_status\"] == \"delivered\"]\n",
    "orders_df.head()"
   ]
  },
  {
   "cell_type": "markdown",
   "metadata": {},
   "source": [
    "Criando a base de dados principal."
   ]
  },
  {
   "cell_type": "code",
   "execution_count": 6,
   "metadata": {},
   "outputs": [],
   "source": [
    "data = orders_df.merge(customers_df, on='customer_id').merge(orderpay_df,on='order_id')\n",
    "data.drop(['order_status','order_approved_at','order_delivered_carrier_date',\n",
    "           'order_estimated_delivery_date',\n",
    "           'order_delivered_customer_date'],axis=1, inplace=True)"
   ]
  },
  {
   "cell_type": "code",
   "execution_count": 7,
   "metadata": {},
   "outputs": [
    {
     "data": {
      "text/html": [
       "<div>\n",
       "<style scoped>\n",
       "    .dataframe tbody tr th:only-of-type {\n",
       "        vertical-align: middle;\n",
       "    }\n",
       "\n",
       "    .dataframe tbody tr th {\n",
       "        vertical-align: top;\n",
       "    }\n",
       "\n",
       "    .dataframe thead th {\n",
       "        text-align: right;\n",
       "    }\n",
       "</style>\n",
       "<table border=\"1\" class=\"dataframe\">\n",
       "  <thead>\n",
       "    <tr style=\"text-align: right;\">\n",
       "      <th></th>\n",
       "      <th>order_id</th>\n",
       "      <th>customer_id</th>\n",
       "      <th>order_purchase_timestamp</th>\n",
       "      <th>customer_unique_id</th>\n",
       "      <th>customer_zip_code_prefix</th>\n",
       "      <th>customer_city</th>\n",
       "      <th>customer_state</th>\n",
       "      <th>payment_sequential</th>\n",
       "      <th>payment_type</th>\n",
       "      <th>payment_installments</th>\n",
       "      <th>payment_value</th>\n",
       "    </tr>\n",
       "  </thead>\n",
       "  <tbody>\n",
       "    <tr>\n",
       "      <th>0</th>\n",
       "      <td>e481f51cbdc54678b7cc49136f2d6af7</td>\n",
       "      <td>9ef432eb6251297304e76186b10a928d</td>\n",
       "      <td>2017-10-02 10:56:33</td>\n",
       "      <td>7c396fd4830fd04220f754e42b4e5bff</td>\n",
       "      <td>3149</td>\n",
       "      <td>sao paulo</td>\n",
       "      <td>SP</td>\n",
       "      <td>1</td>\n",
       "      <td>credit_card</td>\n",
       "      <td>1</td>\n",
       "      <td>18.12</td>\n",
       "    </tr>\n",
       "    <tr>\n",
       "      <th>1</th>\n",
       "      <td>e481f51cbdc54678b7cc49136f2d6af7</td>\n",
       "      <td>9ef432eb6251297304e76186b10a928d</td>\n",
       "      <td>2017-10-02 10:56:33</td>\n",
       "      <td>7c396fd4830fd04220f754e42b4e5bff</td>\n",
       "      <td>3149</td>\n",
       "      <td>sao paulo</td>\n",
       "      <td>SP</td>\n",
       "      <td>3</td>\n",
       "      <td>voucher</td>\n",
       "      <td>1</td>\n",
       "      <td>2.00</td>\n",
       "    </tr>\n",
       "    <tr>\n",
       "      <th>2</th>\n",
       "      <td>e481f51cbdc54678b7cc49136f2d6af7</td>\n",
       "      <td>9ef432eb6251297304e76186b10a928d</td>\n",
       "      <td>2017-10-02 10:56:33</td>\n",
       "      <td>7c396fd4830fd04220f754e42b4e5bff</td>\n",
       "      <td>3149</td>\n",
       "      <td>sao paulo</td>\n",
       "      <td>SP</td>\n",
       "      <td>2</td>\n",
       "      <td>voucher</td>\n",
       "      <td>1</td>\n",
       "      <td>18.59</td>\n",
       "    </tr>\n",
       "    <tr>\n",
       "      <th>3</th>\n",
       "      <td>53cdb2fc8bc7dce0b6741e2150273451</td>\n",
       "      <td>b0830fb4747a6c6d20dea0b8c802d7ef</td>\n",
       "      <td>2018-07-24 20:41:37</td>\n",
       "      <td>af07308b275d755c9edb36a90c618231</td>\n",
       "      <td>47813</td>\n",
       "      <td>barreiras</td>\n",
       "      <td>BA</td>\n",
       "      <td>1</td>\n",
       "      <td>boleto</td>\n",
       "      <td>1</td>\n",
       "      <td>141.46</td>\n",
       "    </tr>\n",
       "    <tr>\n",
       "      <th>4</th>\n",
       "      <td>47770eb9100c2d0c44946d9cf07ec65d</td>\n",
       "      <td>41ce2a54c0b03bf3443c3d931a367089</td>\n",
       "      <td>2018-08-08 08:38:49</td>\n",
       "      <td>3a653a41f6f9fc3d2a113cf8398680e8</td>\n",
       "      <td>75265</td>\n",
       "      <td>vianopolis</td>\n",
       "      <td>GO</td>\n",
       "      <td>1</td>\n",
       "      <td>credit_card</td>\n",
       "      <td>3</td>\n",
       "      <td>179.12</td>\n",
       "    </tr>\n",
       "  </tbody>\n",
       "</table>\n",
       "</div>"
      ],
      "text/plain": [
       "                           order_id                       customer_id  \\\n",
       "0  e481f51cbdc54678b7cc49136f2d6af7  9ef432eb6251297304e76186b10a928d   \n",
       "1  e481f51cbdc54678b7cc49136f2d6af7  9ef432eb6251297304e76186b10a928d   \n",
       "2  e481f51cbdc54678b7cc49136f2d6af7  9ef432eb6251297304e76186b10a928d   \n",
       "3  53cdb2fc8bc7dce0b6741e2150273451  b0830fb4747a6c6d20dea0b8c802d7ef   \n",
       "4  47770eb9100c2d0c44946d9cf07ec65d  41ce2a54c0b03bf3443c3d931a367089   \n",
       "\n",
       "  order_purchase_timestamp                customer_unique_id  \\\n",
       "0      2017-10-02 10:56:33  7c396fd4830fd04220f754e42b4e5bff   \n",
       "1      2017-10-02 10:56:33  7c396fd4830fd04220f754e42b4e5bff   \n",
       "2      2017-10-02 10:56:33  7c396fd4830fd04220f754e42b4e5bff   \n",
       "3      2018-07-24 20:41:37  af07308b275d755c9edb36a90c618231   \n",
       "4      2018-08-08 08:38:49  3a653a41f6f9fc3d2a113cf8398680e8   \n",
       "\n",
       "   customer_zip_code_prefix customer_city customer_state  payment_sequential  \\\n",
       "0                      3149     sao paulo             SP                   1   \n",
       "1                      3149     sao paulo             SP                   3   \n",
       "2                      3149     sao paulo             SP                   2   \n",
       "3                     47813     barreiras             BA                   1   \n",
       "4                     75265    vianopolis             GO                   1   \n",
       "\n",
       "  payment_type  payment_installments  payment_value  \n",
       "0  credit_card                     1          18.12  \n",
       "1      voucher                     1           2.00  \n",
       "2      voucher                     1          18.59  \n",
       "3       boleto                     1         141.46  \n",
       "4  credit_card                     3         179.12  "
      ]
     },
     "execution_count": 7,
     "metadata": {},
     "output_type": "execute_result"
    }
   ],
   "source": [
    "data.head()"
   ]
  },
  {
   "cell_type": "code",
   "execution_count": 8,
   "metadata": {},
   "outputs": [],
   "source": [
    "# convertendo a coluna para datetime\n",
    "data['order_purchase_timestamp'] = pd.to_datetime(data['order_purchase_timestamp'])"
   ]
  },
  {
   "cell_type": "markdown",
   "metadata": {},
   "source": [
    "#### Creating Recency Frequency Monetary (RFM) features"
   ]
  },
  {
   "cell_type": "code",
   "execution_count": 9,
   "metadata": {},
   "outputs": [
    {
     "data": {
      "text/plain": [
       "Timestamp('2018-08-29 15:00:37')"
      ]
     },
     "execution_count": 9,
     "metadata": {},
     "output_type": "execute_result"
    }
   ],
   "source": [
    "max_date = data['order_purchase_timestamp'].max()\n",
    "max_date"
   ]
  },
  {
   "cell_type": "markdown",
   "metadata": {},
   "source": [
    "Criando a feature recency"
   ]
  },
  {
   "cell_type": "code",
   "execution_count": 10,
   "metadata": {},
   "outputs": [],
   "source": [
    "recency_df = (\n",
    "     data[[\"customer_unique_id\", \"order_purchase_timestamp\"]]\n",
    "    .groupby(\"customer_unique_id\")\n",
    "    .apply(lambda x: max_date - x[\"order_purchase_timestamp\"].max())\n",
    "    .to_frame()\n",
    "    .set_axis([\"recency\"], axis=1)\n",
    ")"
   ]
  },
  {
   "cell_type": "code",
   "execution_count": 11,
   "metadata": {},
   "outputs": [
    {
     "data": {
      "text/html": [
       "<div>\n",
       "<style scoped>\n",
       "    .dataframe tbody tr th:only-of-type {\n",
       "        vertical-align: middle;\n",
       "    }\n",
       "\n",
       "    .dataframe tbody tr th {\n",
       "        vertical-align: top;\n",
       "    }\n",
       "\n",
       "    .dataframe thead th {\n",
       "        text-align: right;\n",
       "    }\n",
       "</style>\n",
       "<table border=\"1\" class=\"dataframe\">\n",
       "  <thead>\n",
       "    <tr style=\"text-align: right;\">\n",
       "      <th></th>\n",
       "      <th>recency</th>\n",
       "    </tr>\n",
       "    <tr>\n",
       "      <th>customer_unique_id</th>\n",
       "      <th></th>\n",
       "    </tr>\n",
       "  </thead>\n",
       "  <tbody>\n",
       "    <tr>\n",
       "      <th>0000366f3b9a7992bf8c76cfdf3221e2</th>\n",
       "      <td>111</td>\n",
       "    </tr>\n",
       "    <tr>\n",
       "      <th>0000b849f77a49e4a4ce2b2a4ca5be3f</th>\n",
       "      <td>114</td>\n",
       "    </tr>\n",
       "    <tr>\n",
       "      <th>0000f46a3911fa3c0805444483337064</th>\n",
       "      <td>536</td>\n",
       "    </tr>\n",
       "    <tr>\n",
       "      <th>0000f6ccb0745a6a4b88665a16c9f078</th>\n",
       "      <td>320</td>\n",
       "    </tr>\n",
       "    <tr>\n",
       "      <th>0004aac84e0df4da2b147fca70cf8255</th>\n",
       "      <td>287</td>\n",
       "    </tr>\n",
       "  </tbody>\n",
       "</table>\n",
       "</div>"
      ],
      "text/plain": [
       "                                  recency\n",
       "customer_unique_id                       \n",
       "0000366f3b9a7992bf8c76cfdf3221e2      111\n",
       "0000b849f77a49e4a4ce2b2a4ca5be3f      114\n",
       "0000f46a3911fa3c0805444483337064      536\n",
       "0000f6ccb0745a6a4b88665a16c9f078      320\n",
       "0004aac84e0df4da2b147fca70cf8255      287"
      ]
     },
     "execution_count": 11,
     "metadata": {},
     "output_type": "execute_result"
    }
   ],
   "source": [
    "recency_df['recency'] = recency_df['recency'].apply(lambda x: x.days)\n",
    "recency_df.head()"
   ]
  },
  {
   "cell_type": "markdown",
   "metadata": {},
   "source": [
    "Criando a feature frequency"
   ]
  },
  {
   "cell_type": "code",
   "execution_count": 12,
   "metadata": {},
   "outputs": [
    {
     "data": {
      "text/html": [
       "<div>\n",
       "<style scoped>\n",
       "    .dataframe tbody tr th:only-of-type {\n",
       "        vertical-align: middle;\n",
       "    }\n",
       "\n",
       "    .dataframe tbody tr th {\n",
       "        vertical-align: top;\n",
       "    }\n",
       "\n",
       "    .dataframe thead th {\n",
       "        text-align: right;\n",
       "    }\n",
       "</style>\n",
       "<table border=\"1\" class=\"dataframe\">\n",
       "  <thead>\n",
       "    <tr style=\"text-align: right;\">\n",
       "      <th></th>\n",
       "      <th>frequency</th>\n",
       "    </tr>\n",
       "    <tr>\n",
       "      <th>customer_unique_id</th>\n",
       "      <th></th>\n",
       "    </tr>\n",
       "  </thead>\n",
       "  <tbody>\n",
       "    <tr>\n",
       "      <th>0000366f3b9a7992bf8c76cfdf3221e2</th>\n",
       "      <td>1</td>\n",
       "    </tr>\n",
       "    <tr>\n",
       "      <th>0000b849f77a49e4a4ce2b2a4ca5be3f</th>\n",
       "      <td>1</td>\n",
       "    </tr>\n",
       "    <tr>\n",
       "      <th>0000f46a3911fa3c0805444483337064</th>\n",
       "      <td>1</td>\n",
       "    </tr>\n",
       "    <tr>\n",
       "      <th>0000f6ccb0745a6a4b88665a16c9f078</th>\n",
       "      <td>1</td>\n",
       "    </tr>\n",
       "    <tr>\n",
       "      <th>0004aac84e0df4da2b147fca70cf8255</th>\n",
       "      <td>1</td>\n",
       "    </tr>\n",
       "    <tr>\n",
       "      <th>...</th>\n",
       "      <td>...</td>\n",
       "    </tr>\n",
       "    <tr>\n",
       "      <th>fffcf5a5ff07b0908bd4e2dbc735a684</th>\n",
       "      <td>1</td>\n",
       "    </tr>\n",
       "    <tr>\n",
       "      <th>fffea47cd6d3cc0a88bd621562a9d061</th>\n",
       "      <td>1</td>\n",
       "    </tr>\n",
       "    <tr>\n",
       "      <th>ffff371b4d645b6ecea244b27531430a</th>\n",
       "      <td>1</td>\n",
       "    </tr>\n",
       "    <tr>\n",
       "      <th>ffff5962728ec6157033ef9805bacc48</th>\n",
       "      <td>1</td>\n",
       "    </tr>\n",
       "    <tr>\n",
       "      <th>ffffd2657e2aad2907e67c3e9daecbeb</th>\n",
       "      <td>1</td>\n",
       "    </tr>\n",
       "  </tbody>\n",
       "</table>\n",
       "<p>93357 rows × 1 columns</p>\n",
       "</div>"
      ],
      "text/plain": [
       "                                  frequency\n",
       "customer_unique_id                         \n",
       "0000366f3b9a7992bf8c76cfdf3221e2          1\n",
       "0000b849f77a49e4a4ce2b2a4ca5be3f          1\n",
       "0000f46a3911fa3c0805444483337064          1\n",
       "0000f6ccb0745a6a4b88665a16c9f078          1\n",
       "0004aac84e0df4da2b147fca70cf8255          1\n",
       "...                                     ...\n",
       "fffcf5a5ff07b0908bd4e2dbc735a684          1\n",
       "fffea47cd6d3cc0a88bd621562a9d061          1\n",
       "ffff371b4d645b6ecea244b27531430a          1\n",
       "ffff5962728ec6157033ef9805bacc48          1\n",
       "ffffd2657e2aad2907e67c3e9daecbeb          1\n",
       "\n",
       "[93357 rows x 1 columns]"
      ]
     },
     "execution_count": 12,
     "metadata": {},
     "output_type": "execute_result"
    }
   ],
   "source": [
    "frequency_df = (\n",
    "     data[[\"customer_unique_id\", \"order_purchase_timestamp\"]]\n",
    "    .groupby(\"customer_unique_id\")\n",
    "    .count()\n",
    "    .set_axis([\"frequency\"], axis=1)\n",
    ")\n",
    "frequency_df"
   ]
  },
  {
   "cell_type": "markdown",
   "metadata": {},
   "source": [
    "Criando a feature monetary value"
   ]
  },
  {
   "cell_type": "code",
   "execution_count": 13,
   "metadata": {},
   "outputs": [],
   "source": [
    "# price features\n",
    "monetary_df = (\n",
    "    data[[\"customer_unique_id\", \"payment_value\"]]\n",
    "    .groupby(\"customer_unique_id\")\n",
    "    .sum()\n",
    "    .set_axis([\"monetary_value\"], axis=1)\n",
    ")"
   ]
  },
  {
   "cell_type": "code",
   "execution_count": 14,
   "metadata": {},
   "outputs": [
    {
     "data": {
      "text/html": [
       "<div>\n",
       "<style scoped>\n",
       "    .dataframe tbody tr th:only-of-type {\n",
       "        vertical-align: middle;\n",
       "    }\n",
       "\n",
       "    .dataframe tbody tr th {\n",
       "        vertical-align: top;\n",
       "    }\n",
       "\n",
       "    .dataframe thead th {\n",
       "        text-align: right;\n",
       "    }\n",
       "</style>\n",
       "<table border=\"1\" class=\"dataframe\">\n",
       "  <thead>\n",
       "    <tr style=\"text-align: right;\">\n",
       "      <th></th>\n",
       "      <th>monetary_value</th>\n",
       "    </tr>\n",
       "    <tr>\n",
       "      <th>customer_unique_id</th>\n",
       "      <th></th>\n",
       "    </tr>\n",
       "  </thead>\n",
       "  <tbody>\n",
       "    <tr>\n",
       "      <th>0000366f3b9a7992bf8c76cfdf3221e2</th>\n",
       "      <td>141.90</td>\n",
       "    </tr>\n",
       "    <tr>\n",
       "      <th>0000b849f77a49e4a4ce2b2a4ca5be3f</th>\n",
       "      <td>27.19</td>\n",
       "    </tr>\n",
       "    <tr>\n",
       "      <th>0000f46a3911fa3c0805444483337064</th>\n",
       "      <td>86.22</td>\n",
       "    </tr>\n",
       "    <tr>\n",
       "      <th>0000f6ccb0745a6a4b88665a16c9f078</th>\n",
       "      <td>43.62</td>\n",
       "    </tr>\n",
       "    <tr>\n",
       "      <th>0004aac84e0df4da2b147fca70cf8255</th>\n",
       "      <td>196.89</td>\n",
       "    </tr>\n",
       "  </tbody>\n",
       "</table>\n",
       "</div>"
      ],
      "text/plain": [
       "                                  monetary_value\n",
       "customer_unique_id                              \n",
       "0000366f3b9a7992bf8c76cfdf3221e2          141.90\n",
       "0000b849f77a49e4a4ce2b2a4ca5be3f           27.19\n",
       "0000f46a3911fa3c0805444483337064           86.22\n",
       "0000f6ccb0745a6a4b88665a16c9f078           43.62\n",
       "0004aac84e0df4da2b147fca70cf8255          196.89"
      ]
     },
     "execution_count": 14,
     "metadata": {},
     "output_type": "execute_result"
    }
   ],
   "source": [
    "monetary_df.head()"
   ]
  },
  {
   "cell_type": "markdown",
   "metadata": {},
   "source": [
    "### Iniciando as análises"
   ]
  },
  {
   "cell_type": "code",
   "execution_count": 15,
   "metadata": {},
   "outputs": [],
   "source": [
    "rfm = pd.concat([recency_df, frequency_df, monetary_df], axis=1).merge(\n",
    "    data.set_index(\"customer_unique_id\"), left_index=True, right_index=True, how=\"left\"\n",
    ")"
   ]
  },
  {
   "cell_type": "code",
   "execution_count": 16,
   "metadata": {},
   "outputs": [],
   "source": [
    "rfm.drop(\n",
    "    [\n",
    "        \"customer_id\",\n",
    "        \"customer_zip_code_prefix\",\n",
    "        \"order_id\",\n",
    "        \"order_purchase_timestamp\",\n",
    "        \"payment_sequential\",\n",
    "        \"payment_installments\",\n",
    "        \"payment_value\",\n",
    "        \"payment_type\",\n",
    "        \"customer_state\",\n",
    "        \"customer_city\"\n",
    "    ],\n",
    "    axis=1, inplace=True\n",
    ")"
   ]
  },
  {
   "cell_type": "code",
   "execution_count": 17,
   "metadata": {},
   "outputs": [
    {
     "data": {
      "text/html": [
       "<div>\n",
       "<style scoped>\n",
       "    .dataframe tbody tr th:only-of-type {\n",
       "        vertical-align: middle;\n",
       "    }\n",
       "\n",
       "    .dataframe tbody tr th {\n",
       "        vertical-align: top;\n",
       "    }\n",
       "\n",
       "    .dataframe thead th {\n",
       "        text-align: right;\n",
       "    }\n",
       "</style>\n",
       "<table border=\"1\" class=\"dataframe\">\n",
       "  <thead>\n",
       "    <tr style=\"text-align: right;\">\n",
       "      <th></th>\n",
       "      <th>recency</th>\n",
       "      <th>frequency</th>\n",
       "      <th>monetary_value</th>\n",
       "    </tr>\n",
       "    <tr>\n",
       "      <th>customer_unique_id</th>\n",
       "      <th></th>\n",
       "      <th></th>\n",
       "      <th></th>\n",
       "    </tr>\n",
       "  </thead>\n",
       "  <tbody>\n",
       "    <tr>\n",
       "      <th>0000366f3b9a7992bf8c76cfdf3221e2</th>\n",
       "      <td>111</td>\n",
       "      <td>1</td>\n",
       "      <td>141.90</td>\n",
       "    </tr>\n",
       "    <tr>\n",
       "      <th>0000b849f77a49e4a4ce2b2a4ca5be3f</th>\n",
       "      <td>114</td>\n",
       "      <td>1</td>\n",
       "      <td>27.19</td>\n",
       "    </tr>\n",
       "    <tr>\n",
       "      <th>0000f46a3911fa3c0805444483337064</th>\n",
       "      <td>536</td>\n",
       "      <td>1</td>\n",
       "      <td>86.22</td>\n",
       "    </tr>\n",
       "    <tr>\n",
       "      <th>0000f6ccb0745a6a4b88665a16c9f078</th>\n",
       "      <td>320</td>\n",
       "      <td>1</td>\n",
       "      <td>43.62</td>\n",
       "    </tr>\n",
       "    <tr>\n",
       "      <th>0004aac84e0df4da2b147fca70cf8255</th>\n",
       "      <td>287</td>\n",
       "      <td>1</td>\n",
       "      <td>196.89</td>\n",
       "    </tr>\n",
       "  </tbody>\n",
       "</table>\n",
       "</div>"
      ],
      "text/plain": [
       "                                  recency  frequency  monetary_value\n",
       "customer_unique_id                                                  \n",
       "0000366f3b9a7992bf8c76cfdf3221e2      111          1          141.90\n",
       "0000b849f77a49e4a4ce2b2a4ca5be3f      114          1           27.19\n",
       "0000f46a3911fa3c0805444483337064      536          1           86.22\n",
       "0000f6ccb0745a6a4b88665a16c9f078      320          1           43.62\n",
       "0004aac84e0df4da2b147fca70cf8255      287          1          196.89"
      ]
     },
     "execution_count": 17,
     "metadata": {},
     "output_type": "execute_result"
    }
   ],
   "source": [
    "rfm.head()"
   ]
  },
  {
   "cell_type": "markdown",
   "metadata": {},
   "source": [
    "Aplicando clusterização sobre a base de dados"
   ]
  },
  {
   "cell_type": "code",
   "execution_count": 18,
   "metadata": {},
   "outputs": [
    {
     "data": {
      "image/png": "[encoded data removed]",
      "text/plain": [
       "<Figure size 1000x500 with 1 Axes>"
      ]
     },
     "metadata": {},
     "output_type": "display_data"
    }
   ],
   "source": [
    "plt.figure(figsize=(10,5))\n",
    "\n",
    "from sklearn.cluster import KMeans\n",
    "from scipy.spatial.distance import cdist\n",
    "K = range(1, 10)\n",
    "\n",
    "distortions = []\n",
    "inertias = []\n",
    "mapping1 = {}\n",
    "sse = {}\n",
    "for k in K:\n",
    "    kmeans = KMeans(n_clusters=k, random_state=42)\n",
    "    kmeans.fit(rfm)\n",
    "    \n",
    "    distortions.append(sum(np.min(cdist(rfm, kmeans.cluster_centers_,\n",
    "                                        'euclidean'), axis=1)) / rfm.shape[0])\n",
    "    inertias.append(kmeans.inertia_)\n",
    " \n",
    "    mapping1[k] = sum(np.min(cdist(rfm, kmeans.cluster_centers_,\n",
    "                                   'euclidean'), axis=1)) / rfm.shape[0]\n",
    "    \n",
    "    sse[k] = kmeans.inertia_ # SSE to closest cluster centroid\n",
    "\n",
    "plt.title('The Elbow Method')\n",
    "plt.xlabel('k')\n",
    "plt.ylabel('SSE')\n",
    "sns.pointplot(x=list(sse.keys()), y=list(sse.values()))\n",
    "plt.grid()\n",
    "plt.show()"
   ]
  },
  {
   "cell_type": "markdown",
   "metadata": {},
   "source": [
    "Vamos escolher um k=4"
   ]
  },
  {
   "cell_type": "code",
   "execution_count": 19,
   "metadata": {},
   "outputs": [
    {
     "data": {
      "text/plain": [
       "(100756,)"
      ]
     },
     "execution_count": 19,
     "metadata": {},
     "output_type": "execute_result"
    }
   ],
   "source": [
    "model = KMeans(n_clusters=4, random_state=42)\n",
    "model.fit(rfm)\n",
    "model.labels_.shape"
   ]
  },
  {
   "cell_type": "code",
   "execution_count": 20,
   "metadata": {},
   "outputs": [
    {
     "data": {
      "text/html": [
       "<div>\n",
       "<style scoped>\n",
       "    .dataframe tbody tr th:only-of-type {\n",
       "        vertical-align: middle;\n",
       "    }\n",
       "\n",
       "    .dataframe tbody tr th {\n",
       "        vertical-align: top;\n",
       "    }\n",
       "\n",
       "    .dataframe thead th {\n",
       "        text-align: right;\n",
       "    }\n",
       "</style>\n",
       "<table border=\"1\" class=\"dataframe\">\n",
       "  <thead>\n",
       "    <tr style=\"text-align: right;\">\n",
       "      <th></th>\n",
       "      <th>recency</th>\n",
       "      <th>frequency</th>\n",
       "      <th>monetary_value</th>\n",
       "      <th>Cluster</th>\n",
       "    </tr>\n",
       "    <tr>\n",
       "      <th>customer_unique_id</th>\n",
       "      <th></th>\n",
       "      <th></th>\n",
       "      <th></th>\n",
       "      <th></th>\n",
       "    </tr>\n",
       "  </thead>\n",
       "  <tbody>\n",
       "    <tr>\n",
       "      <th>0000366f3b9a7992bf8c76cfdf3221e2</th>\n",
       "      <td>111</td>\n",
       "      <td>1</td>\n",
       "      <td>141.90</td>\n",
       "      <td>1</td>\n",
       "    </tr>\n",
       "    <tr>\n",
       "      <th>0000b849f77a49e4a4ce2b2a4ca5be3f</th>\n",
       "      <td>114</td>\n",
       "      <td>1</td>\n",
       "      <td>27.19</td>\n",
       "      <td>1</td>\n",
       "    </tr>\n",
       "    <tr>\n",
       "      <th>0000f46a3911fa3c0805444483337064</th>\n",
       "      <td>536</td>\n",
       "      <td>1</td>\n",
       "      <td>86.22</td>\n",
       "      <td>0</td>\n",
       "    </tr>\n",
       "    <tr>\n",
       "      <th>0000f6ccb0745a6a4b88665a16c9f078</th>\n",
       "      <td>320</td>\n",
       "      <td>1</td>\n",
       "      <td>43.62</td>\n",
       "      <td>0</td>\n",
       "    </tr>\n",
       "    <tr>\n",
       "      <th>0004aac84e0df4da2b147fca70cf8255</th>\n",
       "      <td>287</td>\n",
       "      <td>1</td>\n",
       "      <td>196.89</td>\n",
       "      <td>0</td>\n",
       "    </tr>\n",
       "  </tbody>\n",
       "</table>\n",
       "</div>"
      ],
      "text/plain": [
       "                                  recency  frequency  monetary_value  Cluster\n",
       "customer_unique_id                                                           \n",
       "0000366f3b9a7992bf8c76cfdf3221e2      111          1          141.90        1\n",
       "0000b849f77a49e4a4ce2b2a4ca5be3f      114          1           27.19        1\n",
       "0000f46a3911fa3c0805444483337064      536          1           86.22        0\n",
       "0000f6ccb0745a6a4b88665a16c9f078      320          1           43.62        0\n",
       "0004aac84e0df4da2b147fca70cf8255      287          1          196.89        0"
      ]
     },
     "execution_count": 20,
     "metadata": {},
     "output_type": "execute_result"
    }
   ],
   "source": [
    "rfm[\"Cluster\"] = model.labels_\n",
    "rfm.head()"
   ]
  },
  {
   "cell_type": "markdown",
   "metadata": {},
   "source": [
    "A obtenção da pontuação RFM individual pode ser feita de diversas maneiras. Nesse caso, seguiremos o caminho estatístico e classificaremos nosso cliente por meio de quartis.\n",
    "\n",
    "A classificação das pontuações individuais do RFM é feita dividindo cada um dos valores do RFM em quartis, o que cria quatro grupos mais ou menos iguais. Em seguida, classificamos cada grupo de um a cinco; cinco sendo o melhor."
   ]
  },
  {
   "cell_type": "code",
   "execution_count": 21,
   "metadata": {},
   "outputs": [],
   "source": [
    "quantiles = rfm.quantile(q=[0.2,0.4,0.6,0.8])\n",
    "quantiles = quantiles.to_dict()"
   ]
  },
  {
   "cell_type": "code",
   "execution_count": 22,
   "metadata": {},
   "outputs": [
    {
     "data": {
      "text/plain": [
       "{0.2: 91.0, 0.4: 177.0, 0.6: 268.0, 0.8: 383.0}"
      ]
     },
     "execution_count": 22,
     "metadata": {},
     "output_type": "execute_result"
    }
   ],
   "source": [
    "quantiles['recency']"
   ]
  },
  {
   "cell_type": "code",
   "execution_count": 23,
   "metadata": {},
   "outputs": [
    {
     "data": {
      "text/html": [
       "<div>\n",
       "<style scoped>\n",
       "    .dataframe tbody tr th:only-of-type {\n",
       "        vertical-align: middle;\n",
       "    }\n",
       "\n",
       "    .dataframe tbody tr th {\n",
       "        vertical-align: top;\n",
       "    }\n",
       "\n",
       "    .dataframe thead th {\n",
       "        text-align: right;\n",
       "    }\n",
       "</style>\n",
       "<table border=\"1\" class=\"dataframe\">\n",
       "  <thead>\n",
       "    <tr style=\"text-align: right;\">\n",
       "      <th></th>\n",
       "      <th>recency</th>\n",
       "      <th>frequency</th>\n",
       "      <th>monetary_value</th>\n",
       "      <th>Cluster</th>\n",
       "    </tr>\n",
       "  </thead>\n",
       "  <tbody>\n",
       "    <tr>\n",
       "      <th>0.2</th>\n",
       "      <td>91.0</td>\n",
       "      <td>1.0</td>\n",
       "      <td>56.60</td>\n",
       "      <td>0.0</td>\n",
       "    </tr>\n",
       "    <tr>\n",
       "      <th>0.4</th>\n",
       "      <td>177.0</td>\n",
       "      <td>1.0</td>\n",
       "      <td>89.08</td>\n",
       "      <td>1.0</td>\n",
       "    </tr>\n",
       "    <tr>\n",
       "      <th>0.6</th>\n",
       "      <td>268.0</td>\n",
       "      <td>1.0</td>\n",
       "      <td>136.08</td>\n",
       "      <td>1.0</td>\n",
       "    </tr>\n",
       "    <tr>\n",
       "      <th>0.8</th>\n",
       "      <td>383.0</td>\n",
       "      <td>1.0</td>\n",
       "      <td>216.09</td>\n",
       "      <td>1.0</td>\n",
       "    </tr>\n",
       "  </tbody>\n",
       "</table>\n",
       "</div>"
      ],
      "text/plain": [
       "     recency  frequency  monetary_value  Cluster\n",
       "0.2     91.0        1.0           56.60      0.0\n",
       "0.4    177.0        1.0           89.08      1.0\n",
       "0.6    268.0        1.0          136.08      1.0\n",
       "0.8    383.0        1.0          216.09      1.0"
      ]
     },
     "execution_count": 23,
     "metadata": {},
     "output_type": "execute_result"
    }
   ],
   "source": [
    "pd.DataFrame(quantiles)"
   ]
  },
  {
   "cell_type": "code",
   "execution_count": 24,
   "metadata": {},
   "outputs": [],
   "source": [
    "# função para atribuir pontuações R\n",
    "def RScore(x, p, d):\n",
    "    \"\"\"\n",
    "    x: line value of column (default)\n",
    "    p: key name for quantiles dict\n",
    "    d: quantiles dict\n",
    "\n",
    "    \"\"\"\n",
    "    if x <= d[p][0.2]:\n",
    "        return 5\n",
    "    elif (x >= d[p][0.2]) and (x <= d[p][0.4]):\n",
    "        return 4\n",
    "    elif (x >= d[p][0.4]) and (x <= d[p][0.6]):\n",
    "        return 3\n",
    "    elif (x >= d[p][0.6]) and (x <= d[p][0.8]):\n",
    "        return 2\n",
    "    else:\n",
    "        return 1\n",
    "\n",
    "# função para atribuir pontuações F e M \n",
    "def FMScore(x, p, d):\n",
    "    \"\"\"\n",
    "    x: line value of column (default)\n",
    "    p: key name for quantiles dict\n",
    "    d: quantiles dict\n",
    "\n",
    "    \"\"\"\n",
    "    if x <= d[p][0.2]:\n",
    "        return 1\n",
    "    elif (x >= d[p][0.2]) and (x <= d[p][0.4]):\n",
    "        return 2\n",
    "    elif (x >= d[p][0.4]) and (x <= d[p][0.6]):\n",
    "        return 3\n",
    "    elif (x >= d[p][0.6]) and (x <= d[p][0.8]):\n",
    "        return 4\n",
    "    else:\n",
    "        return 5\n",
    "\n",
    "rfm['R'] = rfm['recency'].apply(RScore, args=('recency',quantiles,))\n",
    "rfm['F'] = rfm['frequency'].apply(FMScore, args=('frequency',quantiles,))\n",
    "rfm['M'] = rfm['monetary_value'].apply(FMScore, args=('monetary_value',quantiles,))"
   ]
  },
  {
   "cell_type": "code",
   "execution_count": 25,
   "metadata": {},
   "outputs": [
    {
     "data": {
      "text/html": [
       "<div>\n",
       "<style scoped>\n",
       "    .dataframe tbody tr th:only-of-type {\n",
       "        vertical-align: middle;\n",
       "    }\n",
       "\n",
       "    .dataframe tbody tr th {\n",
       "        vertical-align: top;\n",
       "    }\n",
       "\n",
       "    .dataframe thead th {\n",
       "        text-align: right;\n",
       "    }\n",
       "</style>\n",
       "<table border=\"1\" class=\"dataframe\">\n",
       "  <thead>\n",
       "    <tr style=\"text-align: right;\">\n",
       "      <th></th>\n",
       "      <th>recency</th>\n",
       "      <th>frequency</th>\n",
       "      <th>monetary_value</th>\n",
       "      <th>Cluster</th>\n",
       "      <th>R</th>\n",
       "      <th>F</th>\n",
       "      <th>M</th>\n",
       "    </tr>\n",
       "    <tr>\n",
       "      <th>customer_unique_id</th>\n",
       "      <th></th>\n",
       "      <th></th>\n",
       "      <th></th>\n",
       "      <th></th>\n",
       "      <th></th>\n",
       "      <th></th>\n",
       "      <th></th>\n",
       "    </tr>\n",
       "  </thead>\n",
       "  <tbody>\n",
       "    <tr>\n",
       "      <th>0000366f3b9a7992bf8c76cfdf3221e2</th>\n",
       "      <td>111</td>\n",
       "      <td>1</td>\n",
       "      <td>141.90</td>\n",
       "      <td>1</td>\n",
       "      <td>4</td>\n",
       "      <td>1</td>\n",
       "      <td>4</td>\n",
       "    </tr>\n",
       "    <tr>\n",
       "      <th>0000b849f77a49e4a4ce2b2a4ca5be3f</th>\n",
       "      <td>114</td>\n",
       "      <td>1</td>\n",
       "      <td>27.19</td>\n",
       "      <td>1</td>\n",
       "      <td>4</td>\n",
       "      <td>1</td>\n",
       "      <td>1</td>\n",
       "    </tr>\n",
       "    <tr>\n",
       "      <th>0000f46a3911fa3c0805444483337064</th>\n",
       "      <td>536</td>\n",
       "      <td>1</td>\n",
       "      <td>86.22</td>\n",
       "      <td>0</td>\n",
       "      <td>1</td>\n",
       "      <td>1</td>\n",
       "      <td>2</td>\n",
       "    </tr>\n",
       "    <tr>\n",
       "      <th>0000f6ccb0745a6a4b88665a16c9f078</th>\n",
       "      <td>320</td>\n",
       "      <td>1</td>\n",
       "      <td>43.62</td>\n",
       "      <td>0</td>\n",
       "      <td>2</td>\n",
       "      <td>1</td>\n",
       "      <td>1</td>\n",
       "    </tr>\n",
       "    <tr>\n",
       "      <th>0004aac84e0df4da2b147fca70cf8255</th>\n",
       "      <td>287</td>\n",
       "      <td>1</td>\n",
       "      <td>196.89</td>\n",
       "      <td>0</td>\n",
       "      <td>2</td>\n",
       "      <td>1</td>\n",
       "      <td>4</td>\n",
       "    </tr>\n",
       "  </tbody>\n",
       "</table>\n",
       "</div>"
      ],
      "text/plain": [
       "                                  recency  frequency  monetary_value  Cluster  \\\n",
       "customer_unique_id                                                              \n",
       "0000366f3b9a7992bf8c76cfdf3221e2      111          1          141.90        1   \n",
       "0000b849f77a49e4a4ce2b2a4ca5be3f      114          1           27.19        1   \n",
       "0000f46a3911fa3c0805444483337064      536          1           86.22        0   \n",
       "0000f6ccb0745a6a4b88665a16c9f078      320          1           43.62        0   \n",
       "0004aac84e0df4da2b147fca70cf8255      287          1          196.89        0   \n",
       "\n",
       "                                  R  F  M  \n",
       "customer_unique_id                         \n",
       "0000366f3b9a7992bf8c76cfdf3221e2  4  1  4  \n",
       "0000b849f77a49e4a4ce2b2a4ca5be3f  4  1  1  \n",
       "0000f46a3911fa3c0805444483337064  1  1  2  \n",
       "0000f6ccb0745a6a4b88665a16c9f078  2  1  1  \n",
       "0004aac84e0df4da2b147fca70cf8255  2  1  4  "
      ]
     },
     "execution_count": 25,
     "metadata": {},
     "output_type": "execute_result"
    }
   ],
   "source": [
    "rfm.head()"
   ]
  },
  {
   "cell_type": "code",
   "execution_count": 26,
   "metadata": {},
   "outputs": [],
   "source": [
    "# função para concatenar os valores de R,F e M\n",
    "def join_features_df(x):\n",
    "    return str(x[\"R\"]) + str(x[\"F\"]) + str(x[\"M\"])"
   ]
  },
  {
   "cell_type": "code",
   "execution_count": 27,
   "metadata": {},
   "outputs": [],
   "source": [
    "rfm['rfm_segment'] = rfm.apply(join_features_df, axis=1)\n",
    "# Calculate rfm score\n",
    "rfm['rfm_score'] = rfm[['R','F','M']].sum(axis=1)"
   ]
  },
  {
   "cell_type": "code",
   "execution_count": 28,
   "metadata": {},
   "outputs": [
    {
     "data": {
      "text/html": [
       "<div>\n",
       "<style scoped>\n",
       "    .dataframe tbody tr th:only-of-type {\n",
       "        vertical-align: middle;\n",
       "    }\n",
       "\n",
       "    .dataframe tbody tr th {\n",
       "        vertical-align: top;\n",
       "    }\n",
       "\n",
       "    .dataframe thead th {\n",
       "        text-align: right;\n",
       "    }\n",
       "</style>\n",
       "<table border=\"1\" class=\"dataframe\">\n",
       "  <thead>\n",
       "    <tr style=\"text-align: right;\">\n",
       "      <th></th>\n",
       "      <th>recency</th>\n",
       "      <th>frequency</th>\n",
       "      <th>monetary_value</th>\n",
       "      <th>Cluster</th>\n",
       "      <th>R</th>\n",
       "      <th>F</th>\n",
       "      <th>M</th>\n",
       "      <th>rfm_segment</th>\n",
       "      <th>rfm_score</th>\n",
       "    </tr>\n",
       "    <tr>\n",
       "      <th>customer_unique_id</th>\n",
       "      <th></th>\n",
       "      <th></th>\n",
       "      <th></th>\n",
       "      <th></th>\n",
       "      <th></th>\n",
       "      <th></th>\n",
       "      <th></th>\n",
       "      <th></th>\n",
       "      <th></th>\n",
       "    </tr>\n",
       "  </thead>\n",
       "  <tbody>\n",
       "    <tr>\n",
       "      <th>0000366f3b9a7992bf8c76cfdf3221e2</th>\n",
       "      <td>111</td>\n",
       "      <td>1</td>\n",
       "      <td>141.90</td>\n",
       "      <td>1</td>\n",
       "      <td>4</td>\n",
       "      <td>1</td>\n",
       "      <td>4</td>\n",
       "      <td>4.01.04.0</td>\n",
       "      <td>9</td>\n",
       "    </tr>\n",
       "    <tr>\n",
       "      <th>0000b849f77a49e4a4ce2b2a4ca5be3f</th>\n",
       "      <td>114</td>\n",
       "      <td>1</td>\n",
       "      <td>27.19</td>\n",
       "      <td>1</td>\n",
       "      <td>4</td>\n",
       "      <td>1</td>\n",
       "      <td>1</td>\n",
       "      <td>4.01.01.0</td>\n",
       "      <td>6</td>\n",
       "    </tr>\n",
       "    <tr>\n",
       "      <th>0000f46a3911fa3c0805444483337064</th>\n",
       "      <td>536</td>\n",
       "      <td>1</td>\n",
       "      <td>86.22</td>\n",
       "      <td>0</td>\n",
       "      <td>1</td>\n",
       "      <td>1</td>\n",
       "      <td>2</td>\n",
       "      <td>1.01.02.0</td>\n",
       "      <td>4</td>\n",
       "    </tr>\n",
       "    <tr>\n",
       "      <th>0000f6ccb0745a6a4b88665a16c9f078</th>\n",
       "      <td>320</td>\n",
       "      <td>1</td>\n",
       "      <td>43.62</td>\n",
       "      <td>0</td>\n",
       "      <td>2</td>\n",
       "      <td>1</td>\n",
       "      <td>1</td>\n",
       "      <td>2.01.01.0</td>\n",
       "      <td>4</td>\n",
       "    </tr>\n",
       "    <tr>\n",
       "      <th>0004aac84e0df4da2b147fca70cf8255</th>\n",
       "      <td>287</td>\n",
       "      <td>1</td>\n",
       "      <td>196.89</td>\n",
       "      <td>0</td>\n",
       "      <td>2</td>\n",
       "      <td>1</td>\n",
       "      <td>4</td>\n",
       "      <td>2.01.04.0</td>\n",
       "      <td>7</td>\n",
       "    </tr>\n",
       "  </tbody>\n",
       "</table>\n",
       "</div>"
      ],
      "text/plain": [
       "                                  recency  frequency  monetary_value  Cluster  \\\n",
       "customer_unique_id                                                              \n",
       "0000366f3b9a7992bf8c76cfdf3221e2      111          1          141.90        1   \n",
       "0000b849f77a49e4a4ce2b2a4ca5be3f      114          1           27.19        1   \n",
       "0000f46a3911fa3c0805444483337064      536          1           86.22        0   \n",
       "0000f6ccb0745a6a4b88665a16c9f078      320          1           43.62        0   \n",
       "0004aac84e0df4da2b147fca70cf8255      287          1          196.89        0   \n",
       "\n",
       "                                  R  F  M rfm_segment  rfm_score  \n",
       "customer_unique_id                                                \n",
       "0000366f3b9a7992bf8c76cfdf3221e2  4  1  4   4.01.04.0          9  \n",
       "0000b849f77a49e4a4ce2b2a4ca5be3f  4  1  1   4.01.01.0          6  \n",
       "0000f46a3911fa3c0805444483337064  1  1  2   1.01.02.0          4  \n",
       "0000f6ccb0745a6a4b88665a16c9f078  2  1  1   2.01.01.0          4  \n",
       "0004aac84e0df4da2b147fca70cf8255  2  1  4   2.01.04.0          7  "
      ]
     },
     "execution_count": 28,
     "metadata": {},
     "output_type": "execute_result"
    }
   ],
   "source": [
    "rfm.head()"
   ]
  },
  {
   "cell_type": "markdown",
   "metadata": {},
   "source": [
    "Após cálculos do RFM, podemos criar segmentos de clientes acionáveis ​​e fáceis de entender pelo time de marketing."
   ]
  },
  {
   "cell_type": "markdown",
   "metadata": {},
   "source": [
    "| **Customer Segment** | **Interpretation**                                                                                       |\n",
    "|----------------------|----------------------------------------------------------------------------------------------------------|\n",
    "| Champions            | Comprou recentemente, compra com frequência e gasta muito.                                               |\n",
    "| Loyal Customers      | Compra regularmente. Flexível a promoções.                                                               |\n",
    "| Potential loyalist   | Clientes recentes com frequência média de compra.                                                        |\n",
    "| Recent/New customers     | Comprou mais recentemente, mas não com frequência.                                                       |\n",
    "| Promising            | Compradores recentes, mas não gastaram muito.                                                            |\n",
    "| Needs attention      | Valores de recência, frequência a monetário acima da média. E podem não ter comprado muito recentemente. |\n",
    "| About to sleep       | Valores de recência e frequência abaixo da média. Pode-se perde-los se nao forem reativados.             |\n",
    "| At risk              | Já faz algum tempo que compraram. Necessário traze-los de volta.                                         |\n",
    "| Can´t lose them      | Costumava comprar com frequência,  mas ja não compra há muito tempo.                                     |\n",
    "| Hibernating          | A ultima compra foi a muito tempo e tem baixo número de pedidos. Talvez possam se perdidos.              |"
   ]
  },
  {
   "cell_type": "code",
   "execution_count": 29,
   "metadata": {},
   "outputs": [],
   "source": [
    "# Creating rfm labels\n",
    "segt_map = {  \n",
    "    r'[1-2][1-2]': 'Hibernating',\n",
    "    r'[1-2][3-4]': 'At risk',\n",
    "    r'[1-2]5': 'Can\\'t lose them',\n",
    "    r'3[1-2]': 'About to sleep',\n",
    "    r'33': 'Need attention',\n",
    "    r'[3-4][4-5]': 'Loyal customers',\n",
    "    r'41': 'Promising',\n",
    "    r'51': 'New customers',\n",
    "    r'[4-5][2-3]': 'Potential loyalists',\n",
    "    r'5[4-5]': 'Champions'\n",
    "}"
   ]
  },
  {
   "cell_type": "code",
   "execution_count": 30,
   "metadata": {},
   "outputs": [],
   "source": [
    "rfm['Segment'] = rfm['R'].map(str) + rfm['F'].map(str)\n",
    "rfm['Segment'] = rfm['Segment'].replace(segt_map, regex=True)"
   ]
  },
  {
   "cell_type": "code",
   "execution_count": 32,
   "metadata": {},
   "outputs": [
    {
     "data": {
      "text/html": [
       "<div>\n",
       "<style scoped>\n",
       "    .dataframe tbody tr th:only-of-type {\n",
       "        vertical-align: middle;\n",
       "    }\n",
       "\n",
       "    .dataframe tbody tr th {\n",
       "        vertical-align: top;\n",
       "    }\n",
       "\n",
       "    .dataframe thead th {\n",
       "        text-align: right;\n",
       "    }\n",
       "</style>\n",
       "<table border=\"1\" class=\"dataframe\">\n",
       "  <thead>\n",
       "    <tr style=\"text-align: right;\">\n",
       "      <th></th>\n",
       "      <th>recency</th>\n",
       "      <th>frequency</th>\n",
       "      <th>monetary_value</th>\n",
       "      <th>Cluster</th>\n",
       "      <th>R</th>\n",
       "      <th>F</th>\n",
       "      <th>M</th>\n",
       "      <th>rfm_segment</th>\n",
       "      <th>rfm_score</th>\n",
       "      <th>Segment</th>\n",
       "    </tr>\n",
       "    <tr>\n",
       "      <th>customer_unique_id</th>\n",
       "      <th></th>\n",
       "      <th></th>\n",
       "      <th></th>\n",
       "      <th></th>\n",
       "      <th></th>\n",
       "      <th></th>\n",
       "      <th></th>\n",
       "      <th></th>\n",
       "      <th></th>\n",
       "      <th></th>\n",
       "    </tr>\n",
       "  </thead>\n",
       "  <tbody>\n",
       "    <tr>\n",
       "      <th>0000366f3b9a7992bf8c76cfdf3221e2</th>\n",
       "      <td>111</td>\n",
       "      <td>1</td>\n",
       "      <td>141.90</td>\n",
       "      <td>1</td>\n",
       "      <td>4</td>\n",
       "      <td>1</td>\n",
       "      <td>4</td>\n",
       "      <td>4.01.04.0</td>\n",
       "      <td>9</td>\n",
       "      <td>Promising</td>\n",
       "    </tr>\n",
       "    <tr>\n",
       "      <th>0000b849f77a49e4a4ce2b2a4ca5be3f</th>\n",
       "      <td>114</td>\n",
       "      <td>1</td>\n",
       "      <td>27.19</td>\n",
       "      <td>1</td>\n",
       "      <td>4</td>\n",
       "      <td>1</td>\n",
       "      <td>1</td>\n",
       "      <td>4.01.01.0</td>\n",
       "      <td>6</td>\n",
       "      <td>Promising</td>\n",
       "    </tr>\n",
       "    <tr>\n",
       "      <th>0000f46a3911fa3c0805444483337064</th>\n",
       "      <td>536</td>\n",
       "      <td>1</td>\n",
       "      <td>86.22</td>\n",
       "      <td>0</td>\n",
       "      <td>1</td>\n",
       "      <td>1</td>\n",
       "      <td>2</td>\n",
       "      <td>1.01.02.0</td>\n",
       "      <td>4</td>\n",
       "      <td>Hibernating</td>\n",
       "    </tr>\n",
       "    <tr>\n",
       "      <th>0000f6ccb0745a6a4b88665a16c9f078</th>\n",
       "      <td>320</td>\n",
       "      <td>1</td>\n",
       "      <td>43.62</td>\n",
       "      <td>0</td>\n",
       "      <td>2</td>\n",
       "      <td>1</td>\n",
       "      <td>1</td>\n",
       "      <td>2.01.01.0</td>\n",
       "      <td>4</td>\n",
       "      <td>Hibernating</td>\n",
       "    </tr>\n",
       "    <tr>\n",
       "      <th>0004aac84e0df4da2b147fca70cf8255</th>\n",
       "      <td>287</td>\n",
       "      <td>1</td>\n",
       "      <td>196.89</td>\n",
       "      <td>0</td>\n",
       "      <td>2</td>\n",
       "      <td>1</td>\n",
       "      <td>4</td>\n",
       "      <td>2.01.04.0</td>\n",
       "      <td>7</td>\n",
       "      <td>Hibernating</td>\n",
       "    </tr>\n",
       "  </tbody>\n",
       "</table>\n",
       "</div>"
      ],
      "text/plain": [
       "                                  recency  frequency  monetary_value  Cluster  \\\n",
       "customer_unique_id                                                              \n",
       "0000366f3b9a7992bf8c76cfdf3221e2      111          1          141.90        1   \n",
       "0000b849f77a49e4a4ce2b2a4ca5be3f      114          1           27.19        1   \n",
       "0000f46a3911fa3c0805444483337064      536          1           86.22        0   \n",
       "0000f6ccb0745a6a4b88665a16c9f078      320          1           43.62        0   \n",
       "0004aac84e0df4da2b147fca70cf8255      287          1          196.89        0   \n",
       "\n",
       "                                  R  F  M rfm_segment  rfm_score      Segment  \n",
       "customer_unique_id                                                             \n",
       "0000366f3b9a7992bf8c76cfdf3221e2  4  1  4   4.01.04.0          9    Promising  \n",
       "0000b849f77a49e4a4ce2b2a4ca5be3f  4  1  1   4.01.01.0          6    Promising  \n",
       "0000f46a3911fa3c0805444483337064  1  1  2   1.01.02.0          4  Hibernating  \n",
       "0000f6ccb0745a6a4b88665a16c9f078  2  1  1   2.01.01.0          4  Hibernating  \n",
       "0004aac84e0df4da2b147fca70cf8255  2  1  4   2.01.04.0          7  Hibernating  "
      ]
     },
     "execution_count": 32,
     "metadata": {},
     "output_type": "execute_result"
    }
   ],
   "source": [
    "rfm.head()"
   ]
  },
  {
   "cell_type": "markdown",
   "metadata": {},
   "source": [
    "Atribuindo Scores categóricos de acordo com o RFM Score de cada cliente."
   ]
  },
  {
   "cell_type": "code",
   "execution_count": 33,
   "metadata": {},
   "outputs": [
    {
     "data": {
      "text/html": [
       "<div>\n",
       "<style scoped>\n",
       "    .dataframe tbody tr th:only-of-type {\n",
       "        vertical-align: middle;\n",
       "    }\n",
       "\n",
       "    .dataframe tbody tr th {\n",
       "        vertical-align: top;\n",
       "    }\n",
       "\n",
       "    .dataframe thead th {\n",
       "        text-align: right;\n",
       "    }\n",
       "</style>\n",
       "<table border=\"1\" class=\"dataframe\">\n",
       "  <thead>\n",
       "    <tr style=\"text-align: right;\">\n",
       "      <th></th>\n",
       "      <th>recency</th>\n",
       "      <th>frequency</th>\n",
       "      <th>monetary_value</th>\n",
       "      <th>Cluster</th>\n",
       "      <th>R</th>\n",
       "      <th>F</th>\n",
       "      <th>M</th>\n",
       "      <th>rfm_segment</th>\n",
       "      <th>rfm_score</th>\n",
       "      <th>Segment</th>\n",
       "      <th>Score</th>\n",
       "    </tr>\n",
       "    <tr>\n",
       "      <th>customer_unique_id</th>\n",
       "      <th></th>\n",
       "      <th></th>\n",
       "      <th></th>\n",
       "      <th></th>\n",
       "      <th></th>\n",
       "      <th></th>\n",
       "      <th></th>\n",
       "      <th></th>\n",
       "      <th></th>\n",
       "      <th></th>\n",
       "      <th></th>\n",
       "    </tr>\n",
       "  </thead>\n",
       "  <tbody>\n",
       "    <tr>\n",
       "      <th>0000366f3b9a7992bf8c76cfdf3221e2</th>\n",
       "      <td>111</td>\n",
       "      <td>1</td>\n",
       "      <td>141.90</td>\n",
       "      <td>1</td>\n",
       "      <td>4</td>\n",
       "      <td>1</td>\n",
       "      <td>4</td>\n",
       "      <td>4.01.04.0</td>\n",
       "      <td>9</td>\n",
       "      <td>Promising</td>\n",
       "      <td>Silver</td>\n",
       "    </tr>\n",
       "    <tr>\n",
       "      <th>0000b849f77a49e4a4ce2b2a4ca5be3f</th>\n",
       "      <td>114</td>\n",
       "      <td>1</td>\n",
       "      <td>27.19</td>\n",
       "      <td>1</td>\n",
       "      <td>4</td>\n",
       "      <td>1</td>\n",
       "      <td>1</td>\n",
       "      <td>4.01.01.0</td>\n",
       "      <td>6</td>\n",
       "      <td>Promising</td>\n",
       "      <td>Bronze</td>\n",
       "    </tr>\n",
       "    <tr>\n",
       "      <th>0000f46a3911fa3c0805444483337064</th>\n",
       "      <td>536</td>\n",
       "      <td>1</td>\n",
       "      <td>86.22</td>\n",
       "      <td>0</td>\n",
       "      <td>1</td>\n",
       "      <td>1</td>\n",
       "      <td>2</td>\n",
       "      <td>1.01.02.0</td>\n",
       "      <td>4</td>\n",
       "      <td>Hibernating</td>\n",
       "      <td>Green</td>\n",
       "    </tr>\n",
       "    <tr>\n",
       "      <th>0000f6ccb0745a6a4b88665a16c9f078</th>\n",
       "      <td>320</td>\n",
       "      <td>1</td>\n",
       "      <td>43.62</td>\n",
       "      <td>0</td>\n",
       "      <td>2</td>\n",
       "      <td>1</td>\n",
       "      <td>1</td>\n",
       "      <td>2.01.01.0</td>\n",
       "      <td>4</td>\n",
       "      <td>Hibernating</td>\n",
       "      <td>Green</td>\n",
       "    </tr>\n",
       "    <tr>\n",
       "      <th>0004aac84e0df4da2b147fca70cf8255</th>\n",
       "      <td>287</td>\n",
       "      <td>1</td>\n",
       "      <td>196.89</td>\n",
       "      <td>0</td>\n",
       "      <td>2</td>\n",
       "      <td>1</td>\n",
       "      <td>4</td>\n",
       "      <td>2.01.04.0</td>\n",
       "      <td>7</td>\n",
       "      <td>Hibernating</td>\n",
       "      <td>Bronze</td>\n",
       "    </tr>\n",
       "  </tbody>\n",
       "</table>\n",
       "</div>"
      ],
      "text/plain": [
       "                                  recency  frequency  monetary_value  Cluster  \\\n",
       "customer_unique_id                                                              \n",
       "0000366f3b9a7992bf8c76cfdf3221e2      111          1          141.90        1   \n",
       "0000b849f77a49e4a4ce2b2a4ca5be3f      114          1           27.19        1   \n",
       "0000f46a3911fa3c0805444483337064      536          1           86.22        0   \n",
       "0000f6ccb0745a6a4b88665a16c9f078      320          1           43.62        0   \n",
       "0004aac84e0df4da2b147fca70cf8255      287          1          196.89        0   \n",
       "\n",
       "                                  R  F  M rfm_segment  rfm_score      Segment  \\\n",
       "customer_unique_id                                                              \n",
       "0000366f3b9a7992bf8c76cfdf3221e2  4  1  4   4.01.04.0          9    Promising   \n",
       "0000b849f77a49e4a4ce2b2a4ca5be3f  4  1  1   4.01.01.0          6    Promising   \n",
       "0000f46a3911fa3c0805444483337064  1  1  2   1.01.02.0          4  Hibernating   \n",
       "0000f6ccb0745a6a4b88665a16c9f078  2  1  1   2.01.01.0          4  Hibernating   \n",
       "0004aac84e0df4da2b147fca70cf8255  2  1  4   2.01.04.0          7  Hibernating   \n",
       "\n",
       "                                   Score  \n",
       "customer_unique_id                        \n",
       "0000366f3b9a7992bf8c76cfdf3221e2  Silver  \n",
       "0000b849f77a49e4a4ce2b2a4ca5be3f  Bronze  \n",
       "0000f46a3911fa3c0805444483337064   Green  \n",
       "0000f6ccb0745a6a4b88665a16c9f078   Green  \n",
       "0004aac84e0df4da2b147fca70cf8255  Bronze  "
      ]
     },
     "execution_count": 33,
     "metadata": {},
     "output_type": "execute_result"
    }
   ],
   "source": [
    "# Createing labels for the scores\n",
    "rfm['Score'] = 'Green'\n",
    "rfm.loc[rfm['rfm_score']>5,'Score'] = 'Bronze' \n",
    "rfm.loc[rfm['rfm_score']>7,'Score'] = 'Silver' \n",
    "rfm.loc[rfm['rfm_score']>9,'Score'] = 'Gold' \n",
    "rfm.loc[rfm['rfm_score']>10,'Score'] = 'Platinum'\n",
    "rfm.head()"
   ]
  },
  {
   "cell_type": "markdown",
   "metadata": {},
   "source": [
    "### Analisando os segmentos de clientes"
   ]
  },
  {
   "cell_type": "code",
   "execution_count": 34,
   "metadata": {},
   "outputs": [
    {
     "data": {
      "image/png": "[encoded data removed]",
      "text/plain": [
       "<Figure size 640x480 with 1 Axes>"
      ]
     },
     "metadata": {},
     "output_type": "display_data"
    }
   ],
   "source": [
    "fig, ax = plt.subplots()\n",
    "\n",
    "single_countplot(rfm.reset_index(), ax, y=\"Segment\")\n",
    "ax.set_title(\"Count of customers by Segment\", color=\"dimgrey\")\n",
    "fig.show()"
   ]
  },
  {
   "cell_type": "markdown",
   "metadata": {},
   "source": [
    "A maioria dos clientes a Olist estão em hibernação, isso quer dizer que são clientes que provavelmente compraram pouquíssimas vezes e que já faz muito tempo desde a última compra."
   ]
  },
  {
   "cell_type": "code",
   "execution_count": 71,
   "metadata": {},
   "outputs": [
    {
     "data": {
      "image/png": "[encoded data removed]",
      "text/plain": [
       "<Figure size 640x480 with 1 Axes>"
      ]
     },
     "metadata": {},
     "output_type": "display_data"
    }
   ],
   "source": [
    "fig, ax = plt.subplots()\n",
    "\n",
    "single_countplot(rfm.reset_index(), ax, y=\"Cluster\")\n",
    "ax.set_title(\"Count of customers by Segment\", color=\"dimgrey\")\n",
    "fig.show()"
   ]
  },
  {
   "cell_type": "code",
   "execution_count": 74,
   "metadata": {},
   "outputs": [
    {
     "data": {
      "image/png": "[encoded data removed]"
     },
     "metadata": {},
     "output_type": "display_data"
    }
   ],
   "source": [
    "show_stacked_bars(rfm.reset_index(),x_value='Cluster',y_value='Segment',title='% of Customers by Cluster and Segment')"
   ]
  },
  {
   "cell_type": "markdown",
   "metadata": {},
   "source": [
    "#### Interpretação dos Clusters e possíveis ações para o time de marketing"
   ]
  },
  {
   "cell_type": "markdown",
   "metadata": {},
   "source": [
    "<div style=\"display:flex;,flex-direction:row;font-size:14px;\">\n",
    "\n",
    "<table style=\"height: 186px; width: 763px;margin:5px\">\n",
    "<tbody>\n",
    "<tr>\n",
    "<td style=\"width: 176.875px;\">Cluster</td>\n",
    "<td style=\"width: 176.875px;\">RFM Label</td>\n",
    "<td style=\"width: 176.875px;\">Interpretation</td>\n",
    "<td style=\"width: 231.375px;\">Actioinable insight</td>\n",
    "</tr>\n",
    "<tr>\n",
    "<td style=\"width: 176.875px;\">0</td>\n",
    "<td style=\"width: 176.875px;\">82% Hibernating/ 11% Can't lose them/6% About to sleep</td>\n",
    "<td style=\"width: 176.875px;\">Clientes que n&atilde;o compram h&aacute; muito tempo e t&ecirc;m baixo n&uacute;mero de pedidos. Clientes inativos e/ou prestes a se tornarem inativos.</td>\n",
    "<td style=\"width: 231.375px;\">\n",
    "<p>Enfoque em reativar os clientes hibernantes, oferecendo promo&ccedil;&otilde;es ou descontos personalizados para incentivar novas compras.</p>\n",
    "<p>Acompanhamento especial para os clientes classificados como \"Can't lose them\" e \"About to sleep\", oferecendo incentivos adicionais, produtos novos/populares e mantendo contato para evitar a perda para concorr&ecirc;ncia.</p>\n",
    "</td>\n",
    "</tr>\n",
    "</tbody>\n",
    "</table>\n",
    "\n",
    "<table style=\"height: 186px; width: 763px; margin:5px\">\n",
    "<tbody>\n",
    "<tr>\n",
    "<td style=\"width: 176.875px;\">Cluster</td>\n",
    "<td style=\"width: 176.875px;\">RFM Label</td>\n",
    "<td style=\"width: 176.875px;\">Interpretation</td>\n",
    "<td style=\"width: 231.375px;\">Actioinable insight</td>\n",
    "</tr>\n",
    "<tr>\n",
    "<td style=\"width: 176.875px;\">1</td>\n",
    "<td style=\"width: 176.875px;\">31% New customers/31% Promising/27% About to sleep</td>\n",
    "<td style=\"width: 176.875px;\">Clientes que compraram recentemente, mas n&atilde;o com frequ&ecirc;ncia.&nbsp;Compradores recentes, mas n&atilde;o gastaram muito.&nbsp;Valores de rec&ecirc;ncia e frequ&ecirc;ncia abaixo da m&eacute;dia.</td>\n",
    "<td style=\"width: 231.375px;\">\n",
    "<p>Focar em transformar os clientes \"New customers\" em compradores regulares, oferecendo incentivos para aumentar a frequ&ecirc;ncia de compra.</p>\n",
    "<p>Para os clientes \"Promising\", incentivar compras adicionais com ofertas personalizadas,&nbsp;criar reconhecimento da marca e oferecer amostras gr&aacute;tis de produtos.</p>\n",
    "<p>&nbsp;</p>\n",
    "</td>\n",
    "</tr>\n",
    "</tbody>\n",
    "</table>\n",
    "</div>\n",
    "\n",
    "\n",
    "\n",
    "<div style=\"display:flex;flex-direction:row;font-size:12px;\">\n",
    "\n",
    "<table style=\"height: 186px; width: 763px;margin:5px\">\n",
    "<tbody>\n",
    "<tr>\n",
    "<td style=\"width: 176.875px;\">Cluster</td>\n",
    "<td style=\"width: 176.875px;\">RFM Label</td>\n",
    "<td style=\"width: 176.875px;\">Interpretation</td>\n",
    "<td style=\"width: 231.375px;\">Actioinable insight</td>\n",
    "</tr>\n",
    "<tr>\n",
    "<td style=\"width: 176.875px;\">2</td>\n",
    "<td style=\"width: 176.875px;\">34% Hibernating/17% Promising/16% New customers/12% Loyal customers/7% Champions</td>\n",
    "<td style=\"width: 176.875px;\">\n",
    "<p>Clientes que n&atilde;o compram h&aacute; muito tempo e t&ecirc;m baixo n&uacute;mero de pedidos. Compradores recentes, mas n&atilde;o gastaram muito. Clientes que compraram recentemente, mas n&atilde;o com frequ&ecirc;ncia. Compra regularmente e &eacute; flex&iacute;vel a promo&ccedil;oes. Comprou recentemente, compra com frequ&ecirc;ncia e gasta muito.</p>\n",
    "</td>\n",
    "<td style=\"width: 231.375px;\">\n",
    "<p>Oferecer incentivos para os clientes \"Promising\" e \"New customers\" para aumentar sua fidelidade e frequ&ecirc;ncia de compra.</p>\n",
    "<p>Reativar os clientes \"Hibernating\" com ofertas especiais e personalizadas.</p>\n",
    "<p>Para os clientes \"Loyal customers\" realizar upshell de produtos mais caros, pedir avalia&ccedil;&otilde;es/feedback e recomendar outros produtos.</p>\n",
    "<p>Valorizar e recompensar os clientes \"Champions\" para manter sua lealdade e incentivar gastos adicionais. Recompense-os. Provavelmente ser&atilde;o os primeiros a adotar novos produtos. Ir&atilde;o promover sua marca.</p>\n",
    "</td>\n",
    "</tr>\n",
    "</tbody>\n",
    "</table>\n",
    "\n",
    "<table style=\"height: 186px; width: 763px;margin:5px\">\n",
    "<tbody>\n",
    "<tr>\n",
    "<td style=\"width: 176.875px;\">Cluster</td>\n",
    "<td style=\"width: 176.875px;\">RFM Label</td>\n",
    "<td style=\"width: 176.875px;\">Interpretation</td>\n",
    "<td style=\"width: 231.375px;\">Actioinable insight</td>\n",
    "</tr>\n",
    "<tr>\n",
    "<td style=\"width: 176.875px;\">3</td>\n",
    "<td style=\"width: 176.875px;\">27% Hibernating/16% Promising/15% About to sleep/14% New customers</td>\n",
    "<td style=\"width: 176.875px;\">\n",
    "<p>Clientes que n&atilde;o compram h&aacute; muito tempo e t&ecirc;m baixo n&uacute;mero de pedidos. Compradores recentes, mas n&atilde;o gastaram muito.&nbsp;Valores de rec&ecirc;ncia e frequ&ecirc;ncia abaixo da m&eacute;dia.&nbsp;Clientes que compraram recentemente, mas n&atilde;o com frequ&ecirc;ncia.</p>\n",
    "</td>\n",
    "<td style=\"width: 231.375px;\">\n",
    "<p>Concentrar esfor&ccedil;os na reativa&ccedil;&atilde;o dos clientes \"Hibernating\".&nbsp;</p>\n",
    "<p>Oferecer incentivos para os clientes \"Promising\" e \"New customers\" para aumentar sua fidelidade e frequ&ecirc;ncia de compra.</p>\n",
    "<p>Oferecer produtos novos/populares com descontos para os clientes \"About to sleep\" ou reconectar estes clientes.</p>\n",
    "</td>\n",
    "</tr>\n",
    "</tbody>\n",
    "</table>\n",
    "\n",
    "</div>"
   ]
  },
  {
   "cell_type": "code",
   "execution_count": 77,
   "metadata": {},
   "outputs": [
    {
     "data": {
      "image/png": "[encoded data removed]",
      "text/plain": [
       "<Figure size 1500x500 with 3 Axes>"
      ]
     },
     "metadata": {},
     "output_type": "display_data"
    }
   ],
   "source": [
    "fig, (ax1,ax2,ax3) = plt.subplots(1,3,figsize=(15,5))\n",
    "\n",
    "mean_or_sum_analysis(rfm.reset_index(),ax1, group_col='Cluster',value_col='monetary_value')\n",
    "mean_or_sum_analysis(rfm.reset_index(),ax2, group_col='Cluster',value_col='recency')\n",
    "mean_or_sum_analysis(rfm.reset_index(),ax3, group_col='Cluster',value_col='frequency')"
   ]
  },
  {
   "cell_type": "code",
   "execution_count": 47,
   "metadata": {},
   "outputs": [
    {
     "data": {
      "text/html": [
       "<div>\n",
       "<style scoped>\n",
       "    .dataframe tbody tr th:only-of-type {\n",
       "        vertical-align: middle;\n",
       "    }\n",
       "\n",
       "    .dataframe tbody tr th {\n",
       "        vertical-align: top;\n",
       "    }\n",
       "\n",
       "    .dataframe thead th {\n",
       "        text-align: right;\n",
       "    }\n",
       "</style>\n",
       "<table border=\"1\" class=\"dataframe\">\n",
       "  <thead>\n",
       "    <tr style=\"text-align: right;\">\n",
       "      <th></th>\n",
       "      <th>Cluster</th>\n",
       "      <th>Segment</th>\n",
       "      <th>Score</th>\n",
       "      <th>Count</th>\n",
       "    </tr>\n",
       "  </thead>\n",
       "  <tbody>\n",
       "    <tr>\n",
       "      <th>0</th>\n",
       "      <td>0</td>\n",
       "      <td>About to sleep</td>\n",
       "      <td>Bronze</td>\n",
       "      <td>1018</td>\n",
       "    </tr>\n",
       "    <tr>\n",
       "      <th>1</th>\n",
       "      <td>0</td>\n",
       "      <td>About to sleep</td>\n",
       "      <td>Green</td>\n",
       "      <td>459</td>\n",
       "    </tr>\n",
       "    <tr>\n",
       "      <th>2</th>\n",
       "      <td>0</td>\n",
       "      <td>About to sleep</td>\n",
       "      <td>Silver</td>\n",
       "      <td>746</td>\n",
       "    </tr>\n",
       "    <tr>\n",
       "      <th>3</th>\n",
       "      <td>0</td>\n",
       "      <td>Can't lose them</td>\n",
       "      <td>Bronze</td>\n",
       "      <td>348</td>\n",
       "    </tr>\n",
       "    <tr>\n",
       "      <th>4</th>\n",
       "      <td>0</td>\n",
       "      <td>Can't lose them</td>\n",
       "      <td>Gold</td>\n",
       "      <td>1051</td>\n",
       "    </tr>\n",
       "  </tbody>\n",
       "</table>\n",
       "</div>"
      ],
      "text/plain": [
       "   Cluster          Segment   Score  Count\n",
       "0        0   About to sleep  Bronze   1018\n",
       "1        0   About to sleep   Green    459\n",
       "2        0   About to sleep  Silver    746\n",
       "3        0  Can't lose them  Bronze    348\n",
       "4        0  Can't lose them    Gold   1051"
      ]
     },
     "execution_count": 47,
     "metadata": {},
     "output_type": "execute_result"
    }
   ],
   "source": [
    "# Aggregate data by each customer\n",
    "aux = rfm.reset_index().groupby(['Cluster', 'Segment', 'Score']).agg({'customer_unique_id': lambda x: len(x)}).reset_index()\n",
    "\n",
    "# Rename columns\n",
    "aux.rename(columns={'customer_unique_id': 'Count'}, inplace=True)\n",
    "aux.head()"
   ]
  },
  {
   "cell_type": "code",
   "execution_count": 118,
   "metadata": {},
   "outputs": [],
   "source": [
    "# aux['percent'] = (aux['Count'] / fig5['Count'].sum()) * 100\n",
    "# aux['percent'] = aux['percent'].round(1)"
   ]
  },
  {
   "cell_type": "markdown",
   "metadata": {},
   "source": [
    "Visão geral de acordo com o Cluster, Segmento e Score."
   ]
  },
  {
   "cell_type": "code",
   "execution_count": 79,
   "metadata": {},
   "outputs": [
    {
     "data": {
      "application/vnd.plotly.v1+json": {
       "config": {
        "linkText": "Export to plot.ly",
        "plotlyServerURL": "https://plot.ly",
        "showLink": false
       },
       "data": [
        {
         "branchvalues": "total",
         "customdata": [
          [
           "About to sleep"
          ],
          [
           "About to sleep"
          ],
          [
           "Can't lose them"
          ],
          [
           "Loyal customers"
          ],
          [
           "Can't lose them"
          ],
          [
           "Promising"
          ],
          [
           "Promising"
          ],
          [
           "About to sleep"
          ],
          [
           "Hibernating"
          ],
          [
           "Hibernating"
          ],
          [
           "Hibernating"
          ],
          [
           "New customers"
          ],
          [
           "New customers"
          ],
          [
           "Hibernating"
          ],
          [
           "New customers"
          ],
          [
           "Hibernating"
          ],
          [
           "About to sleep"
          ],
          [
           "Loyal customers"
          ],
          [
           "Hibernating"
          ],
          [
           "Loyal customers"
          ],
          [
           "Can't lose them"
          ],
          [
           "Promising"
          ],
          [
           "New customers"
          ],
          [
           "About to sleep"
          ],
          [
           "Hibernating"
          ],
          [
           "Can't lose them"
          ],
          [
           "Can't lose them"
          ],
          [
           "Loyal customers"
          ],
          [
           "Promising"
          ],
          [
           "New customers"
          ],
          [
           "Loyal customers"
          ],
          [
           "About to sleep"
          ],
          [
           "About to sleep"
          ],
          [
           "Champions"
          ],
          [
           "Champions"
          ],
          [
           "Champions"
          ],
          [
           "New customers"
          ],
          [
           "Can't lose them"
          ],
          [
           "About to sleep"
          ],
          [
           "Loyal customers"
          ],
          [
           "Loyal customers"
          ],
          [
           "Loyal customers"
          ],
          [
           "Promising"
          ],
          [
           "About to sleep"
          ],
          [
           "About to sleep"
          ],
          [
           "About to sleep"
          ],
          [
           "About to sleep"
          ],
          [
           "Can't lose them"
          ],
          [
           "Can't lose them"
          ],
          [
           "Can't lose them"
          ],
          [
           "Champions"
          ],
          [
           "Champions"
          ],
          [
           "Champions"
          ],
          [
           "Hibernating"
          ],
          [
           "Hibernating"
          ],
          [
           "Hibernating"
          ],
          [
           "Loyal customers"
          ],
          [
           "Loyal customers"
          ],
          [
           "Loyal customers"
          ],
          [
           "Loyal customers"
          ],
          [
           "New customers"
          ],
          [
           "New customers"
          ],
          [
           "New customers"
          ],
          [
           "Promising"
          ],
          [
           "Promising"
          ],
          [
           "Promising"
          ],
          [
           "(?)"
          ],
          [
           "(?)"
          ],
          [
           "(?)"
          ],
          [
           "(?)"
          ],
          [
           "(?)"
          ]
         ],
         "domain": {
          "x": [
           0,
           1
          ],
          "y": [
           0,
           1
          ]
         },
         "hovertemplate": "labels=%{label}<br>Count=%{value}<br>parent=%{parent}<br>id=%{id}<br>Segment=%{customdata[0]}<extra></extra>",
         "ids": [
          "Customer/0/About to sleep/Bronze",
          "Customer/1/About to sleep/Bronze",
          "Customer/0/Can't lose them/Bronze",
          "Customer/3/Loyal customers/Platinum",
          "Customer/0/Can't lose them/Silver",
          "Customer/2/Promising/Gold",
          "Customer/3/Promising/Gold",
          "Customer/0/About to sleep/Green",
          "Customer/0/Hibernating/Bronze",
          "Customer/2/Hibernating/Bronze",
          "Customer/3/Hibernating/Bronze",
          "Customer/1/New customers/Bronze",
          "Customer/1/New customers/Platinum",
          "Customer/0/Hibernating/Silver",
          "Customer/2/New customers/Platinum",
          "Customer/2/Hibernating/Silver",
          "Customer/1/About to sleep/Green",
          "Customer/0/Loyal customers/Silver",
          "Customer/3/Hibernating/Silver",
          "Customer/0/Loyal customers/Gold",
          "Customer/0/Can't lose them/Gold",
          "Customer/1/Promising/Bronze",
          "Customer/3/New customers/Platinum",
          "Customer/0/About to sleep/Silver",
          "Customer/0/Hibernating/Green",
          "Customer/0/Can't lose them/Platinum",
          "Customer/2/Can't lose them/Platinum",
          "Customer/1/Loyal customers/Silver",
          "Customer/1/Promising/Gold",
          "Customer/1/New customers/Gold",
          "Customer/1/Loyal customers/Gold",
          "Customer/1/About to sleep/Silver",
          "Customer/2/About to sleep/Silver",
          "Customer/1/Champions/Platinum",
          "Customer/3/Champions/Platinum",
          "Customer/2/Champions/Platinum",
          "Customer/1/New customers/Silver",
          "Customer/3/Can't lose them/Platinum",
          "Customer/3/About to sleep/Silver",
          "Customer/1/Loyal customers/Platinum",
          "Customer/0/Loyal customers/Platinum",
          "Customer/2/Loyal customers/Platinum",
          "Customer/1/Promising/Silver",
          "Customer/0/About to sleep",
          "Customer/1/About to sleep",
          "Customer/2/About to sleep",
          "Customer/3/About to sleep",
          "Customer/0/Can't lose them",
          "Customer/2/Can't lose them",
          "Customer/3/Can't lose them",
          "Customer/1/Champions",
          "Customer/2/Champions",
          "Customer/3/Champions",
          "Customer/0/Hibernating",
          "Customer/2/Hibernating",
          "Customer/3/Hibernating",
          "Customer/0/Loyal customers",
          "Customer/1/Loyal customers",
          "Customer/2/Loyal customers",
          "Customer/3/Loyal customers",
          "Customer/1/New customers",
          "Customer/2/New customers",
          "Customer/3/New customers",
          "Customer/1/Promising",
          "Customer/2/Promising",
          "Customer/3/Promising",
          "Customer/0",
          "Customer/1",
          "Customer/2",
          "Customer/3",
          "Customer"
         ],
         "labels": [
          "Bronze",
          "Bronze",
          "Bronze",
          "Platinum",
          "Silver",
          "Gold",
          "Gold",
          "Green",
          "Bronze",
          "Bronze",
          "Bronze",
          "Bronze",
          "Platinum",
          "Silver",
          "Platinum",
          "Silver",
          "Green",
          "Silver",
          "Silver",
          "Gold",
          "Gold",
          "Bronze",
          "Platinum",
          "Silver",
          "Green",
          "Platinum",
          "Platinum",
          "Silver",
          "Gold",
          "Gold",
          "Gold",
          "Silver",
          "Silver",
          "Platinum",
          "Platinum",
          "Platinum",
          "Silver",
          "Platinum",
          "Silver",
          "Platinum",
          "Platinum",
          "Platinum",
          "Silver",
          "About to sleep",
          "About to sleep",
          "About to sleep",
          "About to sleep",
          "Can't lose them",
          "Can't lose them",
          "Can't lose them",
          "Champions",
          "Champions",
          "Champions",
          "Hibernating",
          "Hibernating",
          "Hibernating",
          "Loyal customers",
          "Loyal customers",
          "Loyal customers",
          "Loyal customers",
          "New customers",
          "New customers",
          "New customers",
          "Promising",
          "Promising",
          "Promising",
          "0",
          "1",
          "2",
          "3",
          "Customer"
         ],
         "marker": {
          "colors": [
           "#636efa",
           "#636efa",
           "#EF553B",
           "#00cc96",
           "#EF553B",
           "#ab63fa",
           "#ab63fa",
           "#636efa",
           "#FFA15A",
           "#FFA15A",
           "#FFA15A",
           "#19d3f3",
           "#19d3f3",
           "#FFA15A",
           "#19d3f3",
           "#FFA15A",
           "#636efa",
           "#00cc96",
           "#FFA15A",
           "#00cc96",
           "#EF553B",
           "#ab63fa",
           "#19d3f3",
           "#636efa",
           "#FFA15A",
           "#EF553B",
           "#EF553B",
           "#00cc96",
           "#ab63fa",
           "#19d3f3",
           "#00cc96",
           "#636efa",
           "#636efa",
           "#FF6692",
           "#FF6692",
           "#FF6692",
           "#19d3f3",
           "#EF553B",
           "#636efa",
           "#00cc96",
           "#00cc96",
           "#00cc96",
           "#ab63fa",
           "#636efa",
           "#636efa",
           "#636efa",
           "#636efa",
           "#EF553B",
           "#EF553B",
           "#EF553B",
           "#FF6692",
           "#FF6692",
           "#FF6692",
           "#FFA15A",
           "#FFA15A",
           "#FFA15A",
           "#00cc96",
           "#00cc96",
           "#00cc96",
           "#00cc96",
           "#19d3f3",
           "#19d3f3",
           "#19d3f3",
           "#ab63fa",
           "#ab63fa",
           "#ab63fa",
           "#B6E880",
           "#B6E880",
           "#B6E880",
           "#B6E880",
           "#B6E880"
          ]
         },
         "name": "",
         "parents": [
          "Customer/0/About to sleep",
          "Customer/1/About to sleep",
          "Customer/0/Can't lose them",
          "Customer/3/Loyal customers",
          "Customer/0/Can't lose them",
          "Customer/2/Promising",
          "Customer/3/Promising",
          "Customer/0/About to sleep",
          "Customer/0/Hibernating",
          "Customer/2/Hibernating",
          "Customer/3/Hibernating",
          "Customer/1/New customers",
          "Customer/1/New customers",
          "Customer/0/Hibernating",
          "Customer/2/New customers",
          "Customer/2/Hibernating",
          "Customer/1/About to sleep",
          "Customer/0/Loyal customers",
          "Customer/3/Hibernating",
          "Customer/0/Loyal customers",
          "Customer/0/Can't lose them",
          "Customer/1/Promising",
          "Customer/3/New customers",
          "Customer/0/About to sleep",
          "Customer/0/Hibernating",
          "Customer/0/Can't lose them",
          "Customer/2/Can't lose them",
          "Customer/1/Loyal customers",
          "Customer/1/Promising",
          "Customer/1/New customers",
          "Customer/1/Loyal customers",
          "Customer/1/About to sleep",
          "Customer/2/About to sleep",
          "Customer/1/Champions",
          "Customer/3/Champions",
          "Customer/2/Champions",
          "Customer/1/New customers",
          "Customer/3/Can't lose them",
          "Customer/3/About to sleep",
          "Customer/1/Loyal customers",
          "Customer/0/Loyal customers",
          "Customer/2/Loyal customers",
          "Customer/1/Promising",
          "Customer/0",
          "Customer/1",
          "Customer/2",
          "Customer/3",
          "Customer/0",
          "Customer/2",
          "Customer/3",
          "Customer/1",
          "Customer/2",
          "Customer/3",
          "Customer/0",
          "Customer/2",
          "Customer/3",
          "Customer/0",
          "Customer/1",
          "Customer/2",
          "Customer/3",
          "Customer/1",
          "Customer/2",
          "Customer/3",
          "Customer/1",
          "Customer/2",
          "Customer/3",
          "Customer",
          "Customer",
          "Customer",
          "Customer",
          ""
         ],
         "textinfo": "label+text+value+percent parent",
         "type": "treemap",
         "values": [
          1018,
          6187,
          348,
          872,
          1735,
          156,
          1199,
          459,
          12128,
          144,
          833,
          3776,
          1938,
          1787,
          150,
          170,
          3438,
          60,
          1201,
          29,
          1051,
          7193,
          1050,
          746,
          18457,
          1487,
          79,
          250,
          1886,
          3627,
          531,
          4526,
          86,
          2026,
          414,
          66,
          7107,
          631,
          1176,
          3041,
          167,
          76,
          7455,
          2223,
          14151,
          86,
          1176,
          4621,
          79,
          631,
          2026,
          66,
          414,
          32372,
          314,
          2034,
          256,
          3822,
          76,
          872,
          16448,
          150,
          1050,
          16534,
          156,
          1199,
          39472,
          52981,
          927,
          7376,
          100756
         ]
        }
       ],
       "layout": {
        "font": {
         "size": 14
        },
        "legend": {
         "tracegroupgap": 0
        },
        "margin": {
         "b": 25,
         "l": 25,
         "r": 25,
         "t": 50
        },
        "template": {
         "data": {
          "bar": [
           {
            "error_x": {
             "color": "#2a3f5f"
            },
            "error_y": {
             "color": "#2a3f5f"
            },
            "marker": {
             "line": {
              "color": "#E5ECF6",
              "width": 0.5
             },
             "pattern": {
              "fillmode": "overlay",
              "size": 10,
              "solidity": 0.2
             }
            },
            "type": "bar"
           }
          ],
          "barpolar": [
           {
            "marker": {
             "line": {
              "color": "#E5ECF6",
              "width": 0.5
             },
             "pattern": {
              "fillmode": "overlay",
              "size": 10,
              "solidity": 0.2
             }
            },
            "type": "barpolar"
           }
          ],
          "carpet": [
           {
            "aaxis": {
             "endlinecolor": "#2a3f5f",
             "gridcolor": "white",
             "linecolor": "white",
             "minorgridcolor": "white",
             "startlinecolor": "#2a3f5f"
            },
            "baxis": {
             "endlinecolor": "#2a3f5f",
             "gridcolor": "white",
             "linecolor": "white",
             "minorgridcolor": "white",
             "startlinecolor": "#2a3f5f"
            },
            "type": "carpet"
           }
          ],
          "choropleth": [
           {
            "colorbar": {
             "outlinewidth": 0,
             "ticks": ""
            },
            "type": "choropleth"
           }
          ],
          "contour": [
           {
            "colorbar": {
             "outlinewidth": 0,
             "ticks": ""
            },
            "colorscale": [
             [
              0,
              "#0d0887"
             ],
             [
              0.1111111111111111,
              "#46039f"
             ],
             [
              0.2222222222222222,
              "#7201a8"
             ],
             [
              0.3333333333333333,
              "#9c179e"
             ],
             [
              0.4444444444444444,
              "#bd3786"
             ],
             [
              0.5555555555555556,
              "#d8576b"
             ],
             [
              0.6666666666666666,
              "#ed7953"
             ],
             [
              0.7777777777777778,
              "#fb9f3a"
             ],
             [
              0.8888888888888888,
              "#fdca26"
             ],
             [
              1,
              "#f0f921"
             ]
            ],
            "type": "contour"
           }
          ],
          "contourcarpet": [
           {
            "colorbar": {
             "outlinewidth": 0,
             "ticks": ""
            },
            "type": "contourcarpet"
           }
          ],
          "heatmap": [
           {
            "colorbar": {
             "outlinewidth": 0,
             "ticks": ""
            },
            "colorscale": [
             [
              0,
              "#0d0887"
             ],
             [
              0.1111111111111111,
              "#46039f"
             ],
             [
              0.2222222222222222,
              "#7201a8"
             ],
             [
              0.3333333333333333,
              "#9c179e"
             ],
             [
              0.4444444444444444,
              "#bd3786"
             ],
             [
              0.5555555555555556,
              "#d8576b"
             ],
             [
              0.6666666666666666,
              "#ed7953"
             ],
             [
              0.7777777777777778,
              "#fb9f3a"
             ],
             [
              0.8888888888888888,
              "#fdca26"
             ],
             [
              1,
              "#f0f921"
             ]
            ],
            "type": "heatmap"
           }
          ],
          "heatmapgl": [
           {
            "colorbar": {
             "outlinewidth": 0,
             "ticks": ""
            },
            "colorscale": [
             [
              0,
              "#0d0887"
             ],
             [
              0.1111111111111111,
              "#46039f"
             ],
             [
              0.2222222222222222,
              "#7201a8"
             ],
             [
              0.3333333333333333,
              "#9c179e"
             ],
             [
              0.4444444444444444,
              "#bd3786"
             ],
             [
              0.5555555555555556,
              "#d8576b"
             ],
             [
              0.6666666666666666,
              "#ed7953"
             ],
             [
              0.7777777777777778,
              "#fb9f3a"
             ],
             [
              0.8888888888888888,
              "#fdca26"
             ],
             [
              1,
              "#f0f921"
             ]
            ],
            "type": "heatmapgl"
           }
          ],
          "histogram": [
           {
            "marker": {
             "pattern": {
              "fillmode": "overlay",
              "size": 10,
              "solidity": 0.2
             }
            },
            "type": "histogram"
           }
          ],
          "histogram2d": [
           {
            "colorbar": {
             "outlinewidth": 0,
             "ticks": ""
            },
            "colorscale": [
             [
              0,
              "#0d0887"
             ],
             [
              0.1111111111111111,
              "#46039f"
             ],
             [
              0.2222222222222222,
              "#7201a8"
             ],
             [
              0.3333333333333333,
              "#9c179e"
             ],
             [
              0.4444444444444444,
              "#bd3786"
             ],
             [
              0.5555555555555556,
              "#d8576b"
             ],
             [
              0.6666666666666666,
              "#ed7953"
             ],
             [
              0.7777777777777778,
              "#fb9f3a"
             ],
             [
              0.8888888888888888,
              "#fdca26"
             ],
             [
              1,
              "#f0f921"
             ]
            ],
            "type": "histogram2d"
           }
          ],
          "histogram2dcontour": [
           {
            "colorbar": {
             "outlinewidth": 0,
             "ticks": ""
            },
            "colorscale": [
             [
              0,
              "#0d0887"
             ],
             [
              0.1111111111111111,
              "#46039f"
             ],
             [
              0.2222222222222222,
              "#7201a8"
             ],
             [
              0.3333333333333333,
              "#9c179e"
             ],
             [
              0.4444444444444444,
              "#bd3786"
             ],
             [
              0.5555555555555556,
              "#d8576b"
             ],
             [
              0.6666666666666666,
              "#ed7953"
             ],
             [
              0.7777777777777778,
              "#fb9f3a"
             ],
             [
              0.8888888888888888,
              "#fdca26"
             ],
             [
              1,
              "#f0f921"
             ]
            ],
            "type": "histogram2dcontour"
           }
          ],
          "mesh3d": [
           {
            "colorbar": {
             "outlinewidth": 0,
             "ticks": ""
            },
            "type": "mesh3d"
           }
          ],
          "parcoords": [
           {
            "line": {
             "colorbar": {
              "outlinewidth": 0,
              "ticks": ""
             }
            },
            "type": "parcoords"
           }
          ],
          "pie": [
           {
            "automargin": true,
            "type": "pie"
           }
          ],
          "scatter": [
           {
            "fillpattern": {
             "fillmode": "overlay",
             "size": 10,
             "solidity": 0.2
            },
            "type": "scatter"
           }
          ],
          "scatter3d": [
           {
            "line": {
             "colorbar": {
              "outlinewidth": 0,
              "ticks": ""
             }
            },
            "marker": {
             "colorbar": {
              "outlinewidth": 0,
              "ticks": ""
             }
            },
            "type": "scatter3d"
           }
          ],
          "scattercarpet": [
           {
            "marker": {
             "colorbar": {
              "outlinewidth": 0,
              "ticks": ""
             }
            },
            "type": "scattercarpet"
           }
          ],
          "scattergeo": [
           {
            "marker": {
             "colorbar": {
              "outlinewidth": 0,
              "ticks": ""
             }
            },
            "type": "scattergeo"
           }
          ],
          "scattergl": [
           {
            "marker": {
             "colorbar": {
              "outlinewidth": 0,
              "ticks": ""
             }
            },
            "type": "scattergl"
           }
          ],
          "scattermapbox": [
           {
            "marker": {
             "colorbar": {
              "outlinewidth": 0,
              "ticks": ""
             }
            },
            "type": "scattermapbox"
           }
          ],
          "scatterpolar": [
           {
            "marker": {
             "colorbar": {
              "outlinewidth": 0,
              "ticks": ""
             }
            },
            "type": "scatterpolar"
           }
          ],
          "scatterpolargl": [
           {
            "marker": {
             "colorbar": {
              "outlinewidth": 0,
              "ticks": ""
             }
            },
            "type": "scatterpolargl"
           }
          ],
          "scatterternary": [
           {
            "marker": {
             "colorbar": {
              "outlinewidth": 0,
              "ticks": ""
             }
            },
            "type": "scatterternary"
           }
          ],
          "surface": [
           {
            "colorbar": {
             "outlinewidth": 0,
             "ticks": ""
            },
            "colorscale": [
             [
              0,
              "#0d0887"
             ],
             [
              0.1111111111111111,
              "#46039f"
             ],
             [
              0.2222222222222222,
              "#7201a8"
             ],
             [
              0.3333333333333333,
              "#9c179e"
             ],
             [
              0.4444444444444444,
              "#bd3786"
             ],
             [
              0.5555555555555556,
              "#d8576b"
             ],
             [
              0.6666666666666666,
              "#ed7953"
             ],
             [
              0.7777777777777778,
              "#fb9f3a"
             ],
             [
              0.8888888888888888,
              "#fdca26"
             ],
             [
              1,
              "#f0f921"
             ]
            ],
            "type": "surface"
           }
          ],
          "table": [
           {
            "cells": {
             "fill": {
              "color": "#EBF0F8"
             },
             "line": {
              "color": "white"
             }
            },
            "header": {
             "fill": {
              "color": "#C8D4E3"
             },
             "line": {
              "color": "white"
             }
            },
            "type": "table"
           }
          ]
         },
         "layout": {
          "annotationdefaults": {
           "arrowcolor": "#2a3f5f",
           "arrowhead": 0,
           "arrowwidth": 1
          },
          "autotypenumbers": "strict",
          "coloraxis": {
           "colorbar": {
            "outlinewidth": 0,
            "ticks": ""
           }
          },
          "colorscale": {
           "diverging": [
            [
             0,
             "#8e0152"
            ],
            [
             0.1,
             "#c51b7d"
            ],
            [
             0.2,
             "#de77ae"
            ],
            [
             0.3,
             "#f1b6da"
            ],
            [
             0.4,
             "#fde0ef"
            ],
            [
             0.5,
             "#f7f7f7"
            ],
            [
             0.6,
             "#e6f5d0"
            ],
            [
             0.7,
             "#b8e186"
            ],
            [
             0.8,
             "#7fbc41"
            ],
            [
             0.9,
             "#4d9221"
            ],
            [
             1,
             "#276419"
            ]
           ],
           "sequential": [
            [
             0,
             "#0d0887"
            ],
            [
             0.1111111111111111,
             "#46039f"
            ],
            [
             0.2222222222222222,
             "#7201a8"
            ],
            [
             0.3333333333333333,
             "#9c179e"
            ],
            [
             0.4444444444444444,
             "#bd3786"
            ],
            [
             0.5555555555555556,
             "#d8576b"
            ],
            [
             0.6666666666666666,
             "#ed7953"
            ],
            [
             0.7777777777777778,
             "#fb9f3a"
            ],
            [
             0.8888888888888888,
             "#fdca26"
            ],
            [
             1,
             "#f0f921"
            ]
           ],
           "sequentialminus": [
            [
             0,
             "#0d0887"
            ],
            [
             0.1111111111111111,
             "#46039f"
            ],
            [
             0.2222222222222222,
             "#7201a8"
            ],
            [
             0.3333333333333333,
             "#9c179e"
            ],
            [
             0.4444444444444444,
             "#bd3786"
            ],
            [
             0.5555555555555556,
             "#d8576b"
            ],
            [
             0.6666666666666666,
             "#ed7953"
            ],
            [
             0.7777777777777778,
             "#fb9f3a"
            ],
            [
             0.8888888888888888,
             "#fdca26"
            ],
            [
             1,
             "#f0f921"
            ]
           ]
          },
          "colorway": [
           "#636efa",
           "#EF553B",
           "#00cc96",
           "#ab63fa",
           "#FFA15A",
           "#19d3f3",
           "#FF6692",
           "#B6E880",
           "#FF97FF",
           "#FECB52"
          ],
          "font": {
           "color": "#2a3f5f"
          },
          "geo": {
           "bgcolor": "white",
           "lakecolor": "white",
           "landcolor": "#E5ECF6",
           "showlakes": true,
           "showland": true,
           "subunitcolor": "white"
          },
          "hoverlabel": {
           "align": "left"
          },
          "hovermode": "closest",
          "mapbox": {
           "style": "light"
          },
          "paper_bgcolor": "white",
          "plot_bgcolor": "#E5ECF6",
          "polar": {
           "angularaxis": {
            "gridcolor": "white",
            "linecolor": "white",
            "ticks": ""
           },
           "bgcolor": "#E5ECF6",
           "radialaxis": {
            "gridcolor": "white",
            "linecolor": "white",
            "ticks": ""
           }
          },
          "scene": {
           "xaxis": {
            "backgroundcolor": "#E5ECF6",
            "gridcolor": "white",
            "gridwidth": 2,
            "linecolor": "white",
            "showbackground": true,
            "ticks": "",
            "zerolinecolor": "white"
           },
           "yaxis": {
            "backgroundcolor": "#E5ECF6",
            "gridcolor": "white",
            "gridwidth": 2,
            "linecolor": "white",
            "showbackground": true,
            "ticks": "",
            "zerolinecolor": "white"
           },
           "zaxis": {
            "backgroundcolor": "#E5ECF6",
            "gridcolor": "white",
            "gridwidth": 2,
            "linecolor": "white",
            "showbackground": true,
            "ticks": "",
            "zerolinecolor": "white"
           }
          },
          "shapedefaults": {
           "line": {
            "color": "#2a3f5f"
           }
          },
          "ternary": {
           "aaxis": {
            "gridcolor": "white",
            "linecolor": "white",
            "ticks": ""
           },
           "baxis": {
            "gridcolor": "white",
            "linecolor": "white",
            "ticks": ""
           },
           "bgcolor": "#E5ECF6",
           "caxis": {
            "gridcolor": "white",
            "linecolor": "white",
            "ticks": ""
           }
          },
          "title": {
           "x": 0.05
          },
          "xaxis": {
           "automargin": true,
           "gridcolor": "white",
           "linecolor": "white",
           "ticks": "",
           "title": {
            "standoff": 15
           },
           "zerolinecolor": "white",
           "zerolinewidth": 2
          },
          "yaxis": {
           "automargin": true,
           "gridcolor": "white",
           "linecolor": "white",
           "ticks": "",
           "title": {
            "standoff": 15
           },
           "zerolinecolor": "white",
           "zerolinewidth": 2
          }
         }
        },
        "title": {
         "text": "Treemap of Customer Segment"
        }
       }
      },
      "text/html": [
       "<div>                            <div id=\"687db937-946d-480f-ae8b-6189e6e7572b\" class=\"plotly-graph-div\" style=\"height:525px; width:100%;\"></div>            <script type=\"text/javascript\">                require([\"plotly\"], function(Plotly) {                    window.PLOTLYENV=window.PLOTLYENV || {};                                    if (document.getElementById(\"687db937-946d-480f-ae8b-6189e6e7572b\")) {                    Plotly.newPlot(                        \"687db937-946d-480f-ae8b-6189e6e7572b\",                        [{\"branchvalues\":\"total\",\"customdata\":[[\"About to sleep\"],[\"About to sleep\"],[\"Can't lose them\"],[\"Loyal customers\"],[\"Can't lose them\"],[\"Promising\"],[\"Promising\"],[\"About to sleep\"],[\"Hibernating\"],[\"Hibernating\"],[\"Hibernating\"],[\"New customers\"],[\"New customers\"],[\"Hibernating\"],[\"New customers\"],[\"Hibernating\"],[\"About to sleep\"],[\"Loyal customers\"],[\"Hibernating\"],[\"Loyal customers\"],[\"Can't lose them\"],[\"Promising\"],[\"New customers\"],[\"About to sleep\"],[\"Hibernating\"],[\"Can't lose them\"],[\"Can't lose them\"],[\"Loyal customers\"],[\"Promising\"],[\"New customers\"],[\"Loyal customers\"],[\"About to sleep\"],[\"About to sleep\"],[\"Champions\"],[\"Champions\"],[\"Champions\"],[\"New customers\"],[\"Can't lose them\"],[\"About to sleep\"],[\"Loyal customers\"],[\"Loyal customers\"],[\"Loyal customers\"],[\"Promising\"],[\"About to sleep\"],[\"About to sleep\"],[\"About to sleep\"],[\"About to sleep\"],[\"Can't lose them\"],[\"Can't lose them\"],[\"Can't lose them\"],[\"Champions\"],[\"Champions\"],[\"Champions\"],[\"Hibernating\"],[\"Hibernating\"],[\"Hibernating\"],[\"Loyal customers\"],[\"Loyal customers\"],[\"Loyal customers\"],[\"Loyal customers\"],[\"New customers\"],[\"New customers\"],[\"New customers\"],[\"Promising\"],[\"Promising\"],[\"Promising\"],[\"(?)\"],[\"(?)\"],[\"(?)\"],[\"(?)\"],[\"(?)\"]],\"domain\":{\"x\":[0.0,1.0],\"y\":[0.0,1.0]},\"hovertemplate\":\"labels=%{label}<br>Count=%{value}<br>parent=%{parent}<br>id=%{id}<br>Segment=%{customdata[0]}<extra></extra>\",\"ids\":[\"Customer/0/About to sleep/Bronze\",\"Customer/1/About to sleep/Bronze\",\"Customer/0/Can't lose them/Bronze\",\"Customer/3/Loyal customers/Platinum\",\"Customer/0/Can't lose them/Silver\",\"Customer/2/Promising/Gold\",\"Customer/3/Promising/Gold\",\"Customer/0/About to sleep/Green\",\"Customer/0/Hibernating/Bronze\",\"Customer/2/Hibernating/Bronze\",\"Customer/3/Hibernating/Bronze\",\"Customer/1/New customers/Bronze\",\"Customer/1/New customers/Platinum\",\"Customer/0/Hibernating/Silver\",\"Customer/2/New customers/Platinum\",\"Customer/2/Hibernating/Silver\",\"Customer/1/About to sleep/Green\",\"Customer/0/Loyal customers/Silver\",\"Customer/3/Hibernating/Silver\",\"Customer/0/Loyal customers/Gold\",\"Customer/0/Can't lose them/Gold\",\"Customer/1/Promising/Bronze\",\"Customer/3/New customers/Platinum\",\"Customer/0/About to sleep/Silver\",\"Customer/0/Hibernating/Green\",\"Customer/0/Can't lose them/Platinum\",\"Customer/2/Can't lose them/Platinum\",\"Customer/1/Loyal customers/Silver\",\"Customer/1/Promising/Gold\",\"Customer/1/New customers/Gold\",\"Customer/1/Loyal customers/Gold\",\"Customer/1/About to sleep/Silver\",\"Customer/2/About to sleep/Silver\",\"Customer/1/Champions/Platinum\",\"Customer/3/Champions/Platinum\",\"Customer/2/Champions/Platinum\",\"Customer/1/New customers/Silver\",\"Customer/3/Can't lose them/Platinum\",\"Customer/3/About to sleep/Silver\",\"Customer/1/Loyal customers/Platinum\",\"Customer/0/Loyal customers/Platinum\",\"Customer/2/Loyal customers/Platinum\",\"Customer/1/Promising/Silver\",\"Customer/0/About to sleep\",\"Customer/1/About to sleep\",\"Customer/2/About to sleep\",\"Customer/3/About to sleep\",\"Customer/0/Can't lose them\",\"Customer/2/Can't lose them\",\"Customer/3/Can't lose them\",\"Customer/1/Champions\",\"Customer/2/Champions\",\"Customer/3/Champions\",\"Customer/0/Hibernating\",\"Customer/2/Hibernating\",\"Customer/3/Hibernating\",\"Customer/0/Loyal customers\",\"Customer/1/Loyal customers\",\"Customer/2/Loyal customers\",\"Customer/3/Loyal customers\",\"Customer/1/New customers\",\"Customer/2/New customers\",\"Customer/3/New customers\",\"Customer/1/Promising\",\"Customer/2/Promising\",\"Customer/3/Promising\",\"Customer/0\",\"Customer/1\",\"Customer/2\",\"Customer/3\",\"Customer\"],\"labels\":[\"Bronze\",\"Bronze\",\"Bronze\",\"Platinum\",\"Silver\",\"Gold\",\"Gold\",\"Green\",\"Bronze\",\"Bronze\",\"Bronze\",\"Bronze\",\"Platinum\",\"Silver\",\"Platinum\",\"Silver\",\"Green\",\"Silver\",\"Silver\",\"Gold\",\"Gold\",\"Bronze\",\"Platinum\",\"Silver\",\"Green\",\"Platinum\",\"Platinum\",\"Silver\",\"Gold\",\"Gold\",\"Gold\",\"Silver\",\"Silver\",\"Platinum\",\"Platinum\",\"Platinum\",\"Silver\",\"Platinum\",\"Silver\",\"Platinum\",\"Platinum\",\"Platinum\",\"Silver\",\"About to sleep\",\"About to sleep\",\"About to sleep\",\"About to sleep\",\"Can't lose them\",\"Can't lose them\",\"Can't lose them\",\"Champions\",\"Champions\",\"Champions\",\"Hibernating\",\"Hibernating\",\"Hibernating\",\"Loyal customers\",\"Loyal customers\",\"Loyal customers\",\"Loyal customers\",\"New customers\",\"New customers\",\"New customers\",\"Promising\",\"Promising\",\"Promising\",\"0\",\"1\",\"2\",\"3\",\"Customer\"],\"marker\":{\"colors\":[\"#636efa\",\"#636efa\",\"#EF553B\",\"#00cc96\",\"#EF553B\",\"#ab63fa\",\"#ab63fa\",\"#636efa\",\"#FFA15A\",\"#FFA15A\",\"#FFA15A\",\"#19d3f3\",\"#19d3f3\",\"#FFA15A\",\"#19d3f3\",\"#FFA15A\",\"#636efa\",\"#00cc96\",\"#FFA15A\",\"#00cc96\",\"#EF553B\",\"#ab63fa\",\"#19d3f3\",\"#636efa\",\"#FFA15A\",\"#EF553B\",\"#EF553B\",\"#00cc96\",\"#ab63fa\",\"#19d3f3\",\"#00cc96\",\"#636efa\",\"#636efa\",\"#FF6692\",\"#FF6692\",\"#FF6692\",\"#19d3f3\",\"#EF553B\",\"#636efa\",\"#00cc96\",\"#00cc96\",\"#00cc96\",\"#ab63fa\",\"#636efa\",\"#636efa\",\"#636efa\",\"#636efa\",\"#EF553B\",\"#EF553B\",\"#EF553B\",\"#FF6692\",\"#FF6692\",\"#FF6692\",\"#FFA15A\",\"#FFA15A\",\"#FFA15A\",\"#00cc96\",\"#00cc96\",\"#00cc96\",\"#00cc96\",\"#19d3f3\",\"#19d3f3\",\"#19d3f3\",\"#ab63fa\",\"#ab63fa\",\"#ab63fa\",\"#B6E880\",\"#B6E880\",\"#B6E880\",\"#B6E880\",\"#B6E880\"]},\"name\":\"\",\"parents\":[\"Customer/0/About to sleep\",\"Customer/1/About to sleep\",\"Customer/0/Can't lose them\",\"Customer/3/Loyal customers\",\"Customer/0/Can't lose them\",\"Customer/2/Promising\",\"Customer/3/Promising\",\"Customer/0/About to sleep\",\"Customer/0/Hibernating\",\"Customer/2/Hibernating\",\"Customer/3/Hibernating\",\"Customer/1/New customers\",\"Customer/1/New customers\",\"Customer/0/Hibernating\",\"Customer/2/New customers\",\"Customer/2/Hibernating\",\"Customer/1/About to sleep\",\"Customer/0/Loyal customers\",\"Customer/3/Hibernating\",\"Customer/0/Loyal customers\",\"Customer/0/Can't lose them\",\"Customer/1/Promising\",\"Customer/3/New customers\",\"Customer/0/About to sleep\",\"Customer/0/Hibernating\",\"Customer/0/Can't lose them\",\"Customer/2/Can't lose them\",\"Customer/1/Loyal customers\",\"Customer/1/Promising\",\"Customer/1/New customers\",\"Customer/1/Loyal customers\",\"Customer/1/About to sleep\",\"Customer/2/About to sleep\",\"Customer/1/Champions\",\"Customer/3/Champions\",\"Customer/2/Champions\",\"Customer/1/New customers\",\"Customer/3/Can't lose them\",\"Customer/3/About to sleep\",\"Customer/1/Loyal customers\",\"Customer/0/Loyal customers\",\"Customer/2/Loyal customers\",\"Customer/1/Promising\",\"Customer/0\",\"Customer/1\",\"Customer/2\",\"Customer/3\",\"Customer/0\",\"Customer/2\",\"Customer/3\",\"Customer/1\",\"Customer/2\",\"Customer/3\",\"Customer/0\",\"Customer/2\",\"Customer/3\",\"Customer/0\",\"Customer/1\",\"Customer/2\",\"Customer/3\",\"Customer/1\",\"Customer/2\",\"Customer/3\",\"Customer/1\",\"Customer/2\",\"Customer/3\",\"Customer\",\"Customer\",\"Customer\",\"Customer\",\"\"],\"textinfo\":\"label+text+value+percent parent\",\"values\":[1018,6187,348,872,1735,156,1199,459,12128,144,833,3776,1938,1787,150,170,3438,60,1201,29,1051,7193,1050,746,18457,1487,79,250,1886,3627,531,4526,86,2026,414,66,7107,631,1176,3041,167,76,7455,2223,14151,86,1176,4621,79,631,2026,66,414,32372,314,2034,256,3822,76,872,16448,150,1050,16534,156,1199,39472,52981,927,7376,100756],\"type\":\"treemap\"}],                        {\"font\":{\"size\":14},\"legend\":{\"tracegroupgap\":0},\"margin\":{\"b\":25,\"l\":25,\"r\":25,\"t\":50},\"template\":{\"data\":{\"barpolar\":[{\"marker\":{\"line\":{\"color\":\"#E5ECF6\",\"width\":0.5},\"pattern\":{\"fillmode\":\"overlay\",\"size\":10,\"solidity\":0.2}},\"type\":\"barpolar\"}],\"bar\":[{\"error_x\":{\"color\":\"#2a3f5f\"},\"error_y\":{\"color\":\"#2a3f5f\"},\"marker\":{\"line\":{\"color\":\"#E5ECF6\",\"width\":0.5},\"pattern\":{\"fillmode\":\"overlay\",\"size\":10,\"solidity\":0.2}},\"type\":\"bar\"}],\"carpet\":[{\"aaxis\":{\"endlinecolor\":\"#2a3f5f\",\"gridcolor\":\"white\",\"linecolor\":\"white\",\"minorgridcolor\":\"white\",\"startlinecolor\":\"#2a3f5f\"},\"baxis\":{\"endlinecolor\":\"#2a3f5f\",\"gridcolor\":\"white\",\"linecolor\":\"white\",\"minorgridcolor\":\"white\",\"startlinecolor\":\"#2a3f5f\"},\"type\":\"carpet\"}],\"choropleth\":[{\"colorbar\":{\"outlinewidth\":0,\"ticks\":\"\"},\"type\":\"choropleth\"}],\"contourcarpet\":[{\"colorbar\":{\"outlinewidth\":0,\"ticks\":\"\"},\"type\":\"contourcarpet\"}],\"contour\":[{\"colorbar\":{\"outlinewidth\":0,\"ticks\":\"\"},\"colorscale\":[[0.0,\"#0d0887\"],[0.1111111111111111,\"#46039f\"],[0.2222222222222222,\"#7201a8\"],[0.3333333333333333,\"#9c179e\"],[0.4444444444444444,\"#bd3786\"],[0.5555555555555556,\"#d8576b\"],[0.6666666666666666,\"#ed7953\"],[0.7777777777777778,\"#fb9f3a\"],[0.8888888888888888,\"#fdca26\"],[1.0,\"#f0f921\"]],\"type\":\"contour\"}],\"heatmapgl\":[{\"colorbar\":{\"outlinewidth\":0,\"ticks\":\"\"},\"colorscale\":[[0.0,\"#0d0887\"],[0.1111111111111111,\"#46039f\"],[0.2222222222222222,\"#7201a8\"],[0.3333333333333333,\"#9c179e\"],[0.4444444444444444,\"#bd3786\"],[0.5555555555555556,\"#d8576b\"],[0.6666666666666666,\"#ed7953\"],[0.7777777777777778,\"#fb9f3a\"],[0.8888888888888888,\"#fdca26\"],[1.0,\"#f0f921\"]],\"type\":\"heatmapgl\"}],\"heatmap\":[{\"colorbar\":{\"outlinewidth\":0,\"ticks\":\"\"},\"colorscale\":[[0.0,\"#0d0887\"],[0.1111111111111111,\"#46039f\"],[0.2222222222222222,\"#7201a8\"],[0.3333333333333333,\"#9c179e\"],[0.4444444444444444,\"#bd3786\"],[0.5555555555555556,\"#d8576b\"],[0.6666666666666666,\"#ed7953\"],[0.7777777777777778,\"#fb9f3a\"],[0.8888888888888888,\"#fdca26\"],[1.0,\"#f0f921\"]],\"type\":\"heatmap\"}],\"histogram2dcontour\":[{\"colorbar\":{\"outlinewidth\":0,\"ticks\":\"\"},\"colorscale\":[[0.0,\"#0d0887\"],[0.1111111111111111,\"#46039f\"],[0.2222222222222222,\"#7201a8\"],[0.3333333333333333,\"#9c179e\"],[0.4444444444444444,\"#bd3786\"],[0.5555555555555556,\"#d8576b\"],[0.6666666666666666,\"#ed7953\"],[0.7777777777777778,\"#fb9f3a\"],[0.8888888888888888,\"#fdca26\"],[1.0,\"#f0f921\"]],\"type\":\"histogram2dcontour\"}],\"histogram2d\":[{\"colorbar\":{\"outlinewidth\":0,\"ticks\":\"\"},\"colorscale\":[[0.0,\"#0d0887\"],[0.1111111111111111,\"#46039f\"],[0.2222222222222222,\"#7201a8\"],[0.3333333333333333,\"#9c179e\"],[0.4444444444444444,\"#bd3786\"],[0.5555555555555556,\"#d8576b\"],[0.6666666666666666,\"#ed7953\"],[0.7777777777777778,\"#fb9f3a\"],[0.8888888888888888,\"#fdca26\"],[1.0,\"#f0f921\"]],\"type\":\"histogram2d\"}],\"histogram\":[{\"marker\":{\"pattern\":{\"fillmode\":\"overlay\",\"size\":10,\"solidity\":0.2}},\"type\":\"histogram\"}],\"mesh3d\":[{\"colorbar\":{\"outlinewidth\":0,\"ticks\":\"\"},\"type\":\"mesh3d\"}],\"parcoords\":[{\"line\":{\"colorbar\":{\"outlinewidth\":0,\"ticks\":\"\"}},\"type\":\"parcoords\"}],\"pie\":[{\"automargin\":true,\"type\":\"pie\"}],\"scatter3d\":[{\"line\":{\"colorbar\":{\"outlinewidth\":0,\"ticks\":\"\"}},\"marker\":{\"colorbar\":{\"outlinewidth\":0,\"ticks\":\"\"}},\"type\":\"scatter3d\"}],\"scattercarpet\":[{\"marker\":{\"colorbar\":{\"outlinewidth\":0,\"ticks\":\"\"}},\"type\":\"scattercarpet\"}],\"scattergeo\":[{\"marker\":{\"colorbar\":{\"outlinewidth\":0,\"ticks\":\"\"}},\"type\":\"scattergeo\"}],\"scattergl\":[{\"marker\":{\"colorbar\":{\"outlinewidth\":0,\"ticks\":\"\"}},\"type\":\"scattergl\"}],\"scattermapbox\":[{\"marker\":{\"colorbar\":{\"outlinewidth\":0,\"ticks\":\"\"}},\"type\":\"scattermapbox\"}],\"scatterpolargl\":[{\"marker\":{\"colorbar\":{\"outlinewidth\":0,\"ticks\":\"\"}},\"type\":\"scatterpolargl\"}],\"scatterpolar\":[{\"marker\":{\"colorbar\":{\"outlinewidth\":0,\"ticks\":\"\"}},\"type\":\"scatterpolar\"}],\"scatter\":[{\"fillpattern\":{\"fillmode\":\"overlay\",\"size\":10,\"solidity\":0.2},\"type\":\"scatter\"}],\"scatterternary\":[{\"marker\":{\"colorbar\":{\"outlinewidth\":0,\"ticks\":\"\"}},\"type\":\"scatterternary\"}],\"surface\":[{\"colorbar\":{\"outlinewidth\":0,\"ticks\":\"\"},\"colorscale\":[[0.0,\"#0d0887\"],[0.1111111111111111,\"#46039f\"],[0.2222222222222222,\"#7201a8\"],[0.3333333333333333,\"#9c179e\"],[0.4444444444444444,\"#bd3786\"],[0.5555555555555556,\"#d8576b\"],[0.6666666666666666,\"#ed7953\"],[0.7777777777777778,\"#fb9f3a\"],[0.8888888888888888,\"#fdca26\"],[1.0,\"#f0f921\"]],\"type\":\"surface\"}],\"table\":[{\"cells\":{\"fill\":{\"color\":\"#EBF0F8\"},\"line\":{\"color\":\"white\"}},\"header\":{\"fill\":{\"color\":\"#C8D4E3\"},\"line\":{\"color\":\"white\"}},\"type\":\"table\"}]},\"layout\":{\"annotationdefaults\":{\"arrowcolor\":\"#2a3f5f\",\"arrowhead\":0,\"arrowwidth\":1},\"autotypenumbers\":\"strict\",\"coloraxis\":{\"colorbar\":{\"outlinewidth\":0,\"ticks\":\"\"}},\"colorscale\":{\"diverging\":[[0,\"#8e0152\"],[0.1,\"#c51b7d\"],[0.2,\"#de77ae\"],[0.3,\"#f1b6da\"],[0.4,\"#fde0ef\"],[0.5,\"#f7f7f7\"],[0.6,\"#e6f5d0\"],[0.7,\"#b8e186\"],[0.8,\"#7fbc41\"],[0.9,\"#4d9221\"],[1,\"#276419\"]],\"sequential\":[[0.0,\"#0d0887\"],[0.1111111111111111,\"#46039f\"],[0.2222222222222222,\"#7201a8\"],[0.3333333333333333,\"#9c179e\"],[0.4444444444444444,\"#bd3786\"],[0.5555555555555556,\"#d8576b\"],[0.6666666666666666,\"#ed7953\"],[0.7777777777777778,\"#fb9f3a\"],[0.8888888888888888,\"#fdca26\"],[1.0,\"#f0f921\"]],\"sequentialminus\":[[0.0,\"#0d0887\"],[0.1111111111111111,\"#46039f\"],[0.2222222222222222,\"#7201a8\"],[0.3333333333333333,\"#9c179e\"],[0.4444444444444444,\"#bd3786\"],[0.5555555555555556,\"#d8576b\"],[0.6666666666666666,\"#ed7953\"],[0.7777777777777778,\"#fb9f3a\"],[0.8888888888888888,\"#fdca26\"],[1.0,\"#f0f921\"]]},\"colorway\":[\"#636efa\",\"#EF553B\",\"#00cc96\",\"#ab63fa\",\"#FFA15A\",\"#19d3f3\",\"#FF6692\",\"#B6E880\",\"#FF97FF\",\"#FECB52\"],\"font\":{\"color\":\"#2a3f5f\"},\"geo\":{\"bgcolor\":\"white\",\"lakecolor\":\"white\",\"landcolor\":\"#E5ECF6\",\"showlakes\":true,\"showland\":true,\"subunitcolor\":\"white\"},\"hoverlabel\":{\"align\":\"left\"},\"hovermode\":\"closest\",\"mapbox\":{\"style\":\"light\"},\"paper_bgcolor\":\"white\",\"plot_bgcolor\":\"#E5ECF6\",\"polar\":{\"angularaxis\":{\"gridcolor\":\"white\",\"linecolor\":\"white\",\"ticks\":\"\"},\"bgcolor\":\"#E5ECF6\",\"radialaxis\":{\"gridcolor\":\"white\",\"linecolor\":\"white\",\"ticks\":\"\"}},\"scene\":{\"xaxis\":{\"backgroundcolor\":\"#E5ECF6\",\"gridcolor\":\"white\",\"gridwidth\":2,\"linecolor\":\"white\",\"showbackground\":true,\"ticks\":\"\",\"zerolinecolor\":\"white\"},\"yaxis\":{\"backgroundcolor\":\"#E5ECF6\",\"gridcolor\":\"white\",\"gridwidth\":2,\"linecolor\":\"white\",\"showbackground\":true,\"ticks\":\"\",\"zerolinecolor\":\"white\"},\"zaxis\":{\"backgroundcolor\":\"#E5ECF6\",\"gridcolor\":\"white\",\"gridwidth\":2,\"linecolor\":\"white\",\"showbackground\":true,\"ticks\":\"\",\"zerolinecolor\":\"white\"}},\"shapedefaults\":{\"line\":{\"color\":\"#2a3f5f\"}},\"ternary\":{\"aaxis\":{\"gridcolor\":\"white\",\"linecolor\":\"white\",\"ticks\":\"\"},\"baxis\":{\"gridcolor\":\"white\",\"linecolor\":\"white\",\"ticks\":\"\"},\"bgcolor\":\"#E5ECF6\",\"caxis\":{\"gridcolor\":\"white\",\"linecolor\":\"white\",\"ticks\":\"\"}},\"title\":{\"x\":0.05},\"xaxis\":{\"automargin\":true,\"gridcolor\":\"white\",\"linecolor\":\"white\",\"ticks\":\"\",\"title\":{\"standoff\":15},\"zerolinecolor\":\"white\",\"zerolinewidth\":2},\"yaxis\":{\"automargin\":true,\"gridcolor\":\"white\",\"linecolor\":\"white\",\"ticks\":\"\",\"title\":{\"standoff\":15},\"zerolinecolor\":\"white\",\"zerolinewidth\":2}}},\"title\":{\"text\":\"Treemap of Customer Segment\"}},                        {\"responsive\": true}                    ).then(function(){\n",
       "                            \n",
       "var gd = document.getElementById('687db937-946d-480f-ae8b-6189e6e7572b');\n",
       "var x = new MutationObserver(function (mutations, observer) {{\n",
       "        var display = window.getComputedStyle(gd).display;\n",
       "        if (!display || display === 'none') {{\n",
       "            console.log([gd, 'removed!']);\n",
       "            Plotly.purge(gd);\n",
       "            observer.disconnect();\n",
       "        }}\n",
       "}});\n",
       "\n",
       "// Listen for the removal of the full notebook cells\n",
       "var notebookContainer = gd.closest('#notebook-container');\n",
       "if (notebookContainer) {{\n",
       "    x.observe(notebookContainer, {childList: true});\n",
       "}}\n",
       "\n",
       "// Listen for the clearing of the current output cell\n",
       "var outputEl = gd.closest('.output');\n",
       "if (outputEl) {{\n",
       "    x.observe(outputEl, {childList: true});\n",
       "}}\n",
       "\n",
       "                        })                };                });            </script>        </div>"
      ]
     },
     "metadata": {},
     "output_type": "display_data"
    }
   ],
   "source": [
    "#colors=['#bad0af','#d5e0cf','#f1f1f1','#f1d4d4'] #color palette\n",
    "fig = px.treemap(aux, path=[px.Constant(\"Customer\"), 'Cluster', 'Segment','Score'], values='Count'\n",
    "                ,title=\"Treemap of Customer Segment\",color='Segment')\n",
    "#fig.update_traces(root_color=\"lightgrey\")\n",
    "fig.update_layout(margin = dict(t=50, l=25, r=25, b=25))\n",
    "\n",
    "fig.update_layout(\n",
    "    #treemapcolorway = colors, #defines the colors in the treemap\n",
    "    margin = dict(t=50, l=25, r=25, b=25),font=dict(size=14))\n",
    "\n",
    "fig.data[0].textinfo = 'label+text+value+percent parent'\n",
    "#fig.show()\n",
    "iplot(fig)"
   ]
  },
  {
   "cell_type": "code",
   "execution_count": 84,
   "metadata": {},
   "outputs": [
    {
     "data": {
      "text/html": [
       "<div>\n",
       "<style scoped>\n",
       "    .dataframe tbody tr th:only-of-type {\n",
       "        vertical-align: middle;\n",
       "    }\n",
       "\n",
       "    .dataframe tbody tr th {\n",
       "        vertical-align: top;\n",
       "    }\n",
       "\n",
       "    .dataframe thead th {\n",
       "        text-align: right;\n",
       "    }\n",
       "</style>\n",
       "<table border=\"1\" class=\"dataframe\">\n",
       "  <thead>\n",
       "    <tr style=\"text-align: right;\">\n",
       "      <th></th>\n",
       "      <th>customer_unique_id</th>\n",
       "      <th>recency</th>\n",
       "      <th>frequency</th>\n",
       "      <th>monetary_value</th>\n",
       "      <th>Cluster</th>\n",
       "      <th>R</th>\n",
       "      <th>F</th>\n",
       "      <th>M</th>\n",
       "      <th>rfm_segment</th>\n",
       "      <th>rfm_score</th>\n",
       "      <th>Segment</th>\n",
       "      <th>Score</th>\n",
       "    </tr>\n",
       "  </thead>\n",
       "  <tbody>\n",
       "    <tr>\n",
       "      <th>0</th>\n",
       "      <td>0000366f3b9a7992bf8c76cfdf3221e2</td>\n",
       "      <td>111</td>\n",
       "      <td>1</td>\n",
       "      <td>141.90</td>\n",
       "      <td>1</td>\n",
       "      <td>4</td>\n",
       "      <td>1</td>\n",
       "      <td>4</td>\n",
       "      <td>4.01.04.0</td>\n",
       "      <td>9</td>\n",
       "      <td>Promising</td>\n",
       "      <td>Silver</td>\n",
       "    </tr>\n",
       "    <tr>\n",
       "      <th>1</th>\n",
       "      <td>0000b849f77a49e4a4ce2b2a4ca5be3f</td>\n",
       "      <td>114</td>\n",
       "      <td>1</td>\n",
       "      <td>27.19</td>\n",
       "      <td>1</td>\n",
       "      <td>4</td>\n",
       "      <td>1</td>\n",
       "      <td>1</td>\n",
       "      <td>4.01.01.0</td>\n",
       "      <td>6</td>\n",
       "      <td>Promising</td>\n",
       "      <td>Bronze</td>\n",
       "    </tr>\n",
       "    <tr>\n",
       "      <th>2</th>\n",
       "      <td>0000f46a3911fa3c0805444483337064</td>\n",
       "      <td>536</td>\n",
       "      <td>1</td>\n",
       "      <td>86.22</td>\n",
       "      <td>0</td>\n",
       "      <td>1</td>\n",
       "      <td>1</td>\n",
       "      <td>2</td>\n",
       "      <td>1.01.02.0</td>\n",
       "      <td>4</td>\n",
       "      <td>Hibernating</td>\n",
       "      <td>Green</td>\n",
       "    </tr>\n",
       "    <tr>\n",
       "      <th>3</th>\n",
       "      <td>0000f6ccb0745a6a4b88665a16c9f078</td>\n",
       "      <td>320</td>\n",
       "      <td>1</td>\n",
       "      <td>43.62</td>\n",
       "      <td>0</td>\n",
       "      <td>2</td>\n",
       "      <td>1</td>\n",
       "      <td>1</td>\n",
       "      <td>2.01.01.0</td>\n",
       "      <td>4</td>\n",
       "      <td>Hibernating</td>\n",
       "      <td>Green</td>\n",
       "    </tr>\n",
       "    <tr>\n",
       "      <th>4</th>\n",
       "      <td>0004aac84e0df4da2b147fca70cf8255</td>\n",
       "      <td>287</td>\n",
       "      <td>1</td>\n",
       "      <td>196.89</td>\n",
       "      <td>0</td>\n",
       "      <td>2</td>\n",
       "      <td>1</td>\n",
       "      <td>4</td>\n",
       "      <td>2.01.04.0</td>\n",
       "      <td>7</td>\n",
       "      <td>Hibernating</td>\n",
       "      <td>Bronze</td>\n",
       "    </tr>\n",
       "    <tr>\n",
       "      <th>...</th>\n",
       "      <td>...</td>\n",
       "      <td>...</td>\n",
       "      <td>...</td>\n",
       "      <td>...</td>\n",
       "      <td>...</td>\n",
       "      <td>...</td>\n",
       "      <td>...</td>\n",
       "      <td>...</td>\n",
       "      <td>...</td>\n",
       "      <td>...</td>\n",
       "      <td>...</td>\n",
       "      <td>...</td>\n",
       "    </tr>\n",
       "    <tr>\n",
       "      <th>100751</th>\n",
       "      <td>fffcf5a5ff07b0908bd4e2dbc735a684</td>\n",
       "      <td>446</td>\n",
       "      <td>1</td>\n",
       "      <td>2067.42</td>\n",
       "      <td>2</td>\n",
       "      <td>1</td>\n",
       "      <td>1</td>\n",
       "      <td>5</td>\n",
       "      <td>1.01.05.0</td>\n",
       "      <td>7</td>\n",
       "      <td>Hibernating</td>\n",
       "      <td>Bronze</td>\n",
       "    </tr>\n",
       "    <tr>\n",
       "      <th>100752</th>\n",
       "      <td>fffea47cd6d3cc0a88bd621562a9d061</td>\n",
       "      <td>261</td>\n",
       "      <td>1</td>\n",
       "      <td>84.58</td>\n",
       "      <td>0</td>\n",
       "      <td>3</td>\n",
       "      <td>1</td>\n",
       "      <td>2</td>\n",
       "      <td>3.01.02.0</td>\n",
       "      <td>6</td>\n",
       "      <td>About to sleep</td>\n",
       "      <td>Bronze</td>\n",
       "    </tr>\n",
       "    <tr>\n",
       "      <th>100753</th>\n",
       "      <td>ffff371b4d645b6ecea244b27531430a</td>\n",
       "      <td>567</td>\n",
       "      <td>1</td>\n",
       "      <td>112.46</td>\n",
       "      <td>0</td>\n",
       "      <td>1</td>\n",
       "      <td>1</td>\n",
       "      <td>3</td>\n",
       "      <td>1.01.03.0</td>\n",
       "      <td>5</td>\n",
       "      <td>Hibernating</td>\n",
       "      <td>Green</td>\n",
       "    </tr>\n",
       "    <tr>\n",
       "      <th>100754</th>\n",
       "      <td>ffff5962728ec6157033ef9805bacc48</td>\n",
       "      <td>118</td>\n",
       "      <td>1</td>\n",
       "      <td>133.69</td>\n",
       "      <td>1</td>\n",
       "      <td>4</td>\n",
       "      <td>1</td>\n",
       "      <td>3</td>\n",
       "      <td>4.01.03.0</td>\n",
       "      <td>8</td>\n",
       "      <td>Promising</td>\n",
       "      <td>Silver</td>\n",
       "    </tr>\n",
       "    <tr>\n",
       "      <th>100755</th>\n",
       "      <td>ffffd2657e2aad2907e67c3e9daecbeb</td>\n",
       "      <td>483</td>\n",
       "      <td>1</td>\n",
       "      <td>71.56</td>\n",
       "      <td>0</td>\n",
       "      <td>1</td>\n",
       "      <td>1</td>\n",
       "      <td>2</td>\n",
       "      <td>1.01.02.0</td>\n",
       "      <td>4</td>\n",
       "      <td>Hibernating</td>\n",
       "      <td>Green</td>\n",
       "    </tr>\n",
       "  </tbody>\n",
       "</table>\n",
       "<p>100756 rows × 12 columns</p>\n",
       "</div>"
      ],
      "text/plain": [
       "                      customer_unique_id  recency  frequency  monetary_value  \\\n",
       "0       0000366f3b9a7992bf8c76cfdf3221e2      111          1          141.90   \n",
       "1       0000b849f77a49e4a4ce2b2a4ca5be3f      114          1           27.19   \n",
       "2       0000f46a3911fa3c0805444483337064      536          1           86.22   \n",
       "3       0000f6ccb0745a6a4b88665a16c9f078      320          1           43.62   \n",
       "4       0004aac84e0df4da2b147fca70cf8255      287          1          196.89   \n",
       "...                                  ...      ...        ...             ...   \n",
       "100751  fffcf5a5ff07b0908bd4e2dbc735a684      446          1         2067.42   \n",
       "100752  fffea47cd6d3cc0a88bd621562a9d061      261          1           84.58   \n",
       "100753  ffff371b4d645b6ecea244b27531430a      567          1          112.46   \n",
       "100754  ffff5962728ec6157033ef9805bacc48      118          1          133.69   \n",
       "100755  ffffd2657e2aad2907e67c3e9daecbeb      483          1           71.56   \n",
       "\n",
       "        Cluster  R  F  M rfm_segment  rfm_score         Segment   Score  \n",
       "0             1  4  1  4   4.01.04.0          9       Promising  Silver  \n",
       "1             1  4  1  1   4.01.01.0          6       Promising  Bronze  \n",
       "2             0  1  1  2   1.01.02.0          4     Hibernating   Green  \n",
       "3             0  2  1  1   2.01.01.0          4     Hibernating   Green  \n",
       "4             0  2  1  4   2.01.04.0          7     Hibernating  Bronze  \n",
       "...         ... .. .. ..         ...        ...             ...     ...  \n",
       "100751        2  1  1  5   1.01.05.0          7     Hibernating  Bronze  \n",
       "100752        0  3  1  2   3.01.02.0          6  About to sleep  Bronze  \n",
       "100753        0  1  1  3   1.01.03.0          5     Hibernating   Green  \n",
       "100754        1  4  1  3   4.01.03.0          8       Promising  Silver  \n",
       "100755        0  1  1  2   1.01.02.0          4     Hibernating   Green  \n",
       "\n",
       "[100756 rows x 12 columns]"
      ]
     },
     "execution_count": 84,
     "metadata": {},
     "output_type": "execute_result"
    }
   ],
   "source": [
    "rfm.reset_index()"
   ]
  },
  {
   "cell_type": "code",
   "execution_count": 89,
   "metadata": {},
   "outputs": [
    {
     "data": {
      "text/html": [
       "<div>\n",
       "<style scoped>\n",
       "    .dataframe tbody tr th:only-of-type {\n",
       "        vertical-align: middle;\n",
       "    }\n",
       "\n",
       "    .dataframe tbody tr th {\n",
       "        vertical-align: top;\n",
       "    }\n",
       "\n",
       "    .dataframe thead th {\n",
       "        text-align: right;\n",
       "    }\n",
       "</style>\n",
       "<table border=\"1\" class=\"dataframe\">\n",
       "  <thead>\n",
       "    <tr style=\"text-align: right;\">\n",
       "      <th></th>\n",
       "      <th>customer_unique_id</th>\n",
       "      <th>recency</th>\n",
       "      <th>frequency</th>\n",
       "      <th>monetary_value</th>\n",
       "      <th>Cluster</th>\n",
       "      <th>R</th>\n",
       "      <th>F</th>\n",
       "      <th>M</th>\n",
       "      <th>rfm_segment</th>\n",
       "      <th>rfm_score</th>\n",
       "      <th>...</th>\n",
       "      <th>order_id</th>\n",
       "      <th>customer_id</th>\n",
       "      <th>order_purchase_timestamp</th>\n",
       "      <th>customer_zip_code_prefix</th>\n",
       "      <th>customer_city</th>\n",
       "      <th>customer_state</th>\n",
       "      <th>payment_sequential</th>\n",
       "      <th>payment_type</th>\n",
       "      <th>payment_installments</th>\n",
       "      <th>payment_value</th>\n",
       "    </tr>\n",
       "  </thead>\n",
       "  <tbody>\n",
       "    <tr>\n",
       "      <th>0</th>\n",
       "      <td>0000366f3b9a7992bf8c76cfdf3221e2</td>\n",
       "      <td>111</td>\n",
       "      <td>1</td>\n",
       "      <td>141.90</td>\n",
       "      <td>1</td>\n",
       "      <td>4</td>\n",
       "      <td>1</td>\n",
       "      <td>4</td>\n",
       "      <td>4.01.04.0</td>\n",
       "      <td>9</td>\n",
       "      <td>...</td>\n",
       "      <td>e22acc9c116caa3f2b7121bbb380d08e</td>\n",
       "      <td>fadbb3709178fc513abc1b2670aa1ad2</td>\n",
       "      <td>2018-05-10 10:56:27</td>\n",
       "      <td>7787</td>\n",
       "      <td>cajamar</td>\n",
       "      <td>SP</td>\n",
       "      <td>1</td>\n",
       "      <td>credit_card</td>\n",
       "      <td>8</td>\n",
       "      <td>141.90</td>\n",
       "    </tr>\n",
       "    <tr>\n",
       "      <th>1</th>\n",
       "      <td>0000b849f77a49e4a4ce2b2a4ca5be3f</td>\n",
       "      <td>114</td>\n",
       "      <td>1</td>\n",
       "      <td>27.19</td>\n",
       "      <td>1</td>\n",
       "      <td>4</td>\n",
       "      <td>1</td>\n",
       "      <td>1</td>\n",
       "      <td>4.01.01.0</td>\n",
       "      <td>6</td>\n",
       "      <td>...</td>\n",
       "      <td>3594e05a005ac4d06a72673270ef9ec9</td>\n",
       "      <td>4cb282e167ae9234755102258dd52ee8</td>\n",
       "      <td>2018-05-07 11:11:27</td>\n",
       "      <td>6053</td>\n",
       "      <td>osasco</td>\n",
       "      <td>SP</td>\n",
       "      <td>1</td>\n",
       "      <td>credit_card</td>\n",
       "      <td>1</td>\n",
       "      <td>27.19</td>\n",
       "    </tr>\n",
       "    <tr>\n",
       "      <th>2</th>\n",
       "      <td>0000f46a3911fa3c0805444483337064</td>\n",
       "      <td>536</td>\n",
       "      <td>1</td>\n",
       "      <td>86.22</td>\n",
       "      <td>0</td>\n",
       "      <td>1</td>\n",
       "      <td>1</td>\n",
       "      <td>2</td>\n",
       "      <td>1.01.02.0</td>\n",
       "      <td>4</td>\n",
       "      <td>...</td>\n",
       "      <td>b33ec3b699337181488304f362a6b734</td>\n",
       "      <td>9b3932a6253894a02c1df9d19004239f</td>\n",
       "      <td>2017-03-10 21:05:03</td>\n",
       "      <td>88115</td>\n",
       "      <td>sao jose</td>\n",
       "      <td>SC</td>\n",
       "      <td>1</td>\n",
       "      <td>credit_card</td>\n",
       "      <td>8</td>\n",
       "      <td>86.22</td>\n",
       "    </tr>\n",
       "    <tr>\n",
       "      <th>3</th>\n",
       "      <td>0000f6ccb0745a6a4b88665a16c9f078</td>\n",
       "      <td>320</td>\n",
       "      <td>1</td>\n",
       "      <td>43.62</td>\n",
       "      <td>0</td>\n",
       "      <td>2</td>\n",
       "      <td>1</td>\n",
       "      <td>1</td>\n",
       "      <td>2.01.01.0</td>\n",
       "      <td>4</td>\n",
       "      <td>...</td>\n",
       "      <td>41272756ecddd9a9ed0180413cc22fb6</td>\n",
       "      <td>914991f0c02ef0843c0e7010c819d642</td>\n",
       "      <td>2017-10-12 20:29:41</td>\n",
       "      <td>66812</td>\n",
       "      <td>belem</td>\n",
       "      <td>PA</td>\n",
       "      <td>1</td>\n",
       "      <td>credit_card</td>\n",
       "      <td>4</td>\n",
       "      <td>43.62</td>\n",
       "    </tr>\n",
       "    <tr>\n",
       "      <th>4</th>\n",
       "      <td>0004aac84e0df4da2b147fca70cf8255</td>\n",
       "      <td>287</td>\n",
       "      <td>1</td>\n",
       "      <td>196.89</td>\n",
       "      <td>0</td>\n",
       "      <td>2</td>\n",
       "      <td>1</td>\n",
       "      <td>4</td>\n",
       "      <td>2.01.04.0</td>\n",
       "      <td>7</td>\n",
       "      <td>...</td>\n",
       "      <td>d957021f1127559cd947b62533f484f7</td>\n",
       "      <td>47227568b10f5f58a524a75507e6992c</td>\n",
       "      <td>2017-11-14 19:45:42</td>\n",
       "      <td>18040</td>\n",
       "      <td>sorocaba</td>\n",
       "      <td>SP</td>\n",
       "      <td>1</td>\n",
       "      <td>credit_card</td>\n",
       "      <td>6</td>\n",
       "      <td>196.89</td>\n",
       "    </tr>\n",
       "  </tbody>\n",
       "</table>\n",
       "<p>5 rows × 22 columns</p>\n",
       "</div>"
      ],
      "text/plain": [
       "                 customer_unique_id  recency  frequency  monetary_value  \\\n",
       "0  0000366f3b9a7992bf8c76cfdf3221e2      111          1          141.90   \n",
       "1  0000b849f77a49e4a4ce2b2a4ca5be3f      114          1           27.19   \n",
       "2  0000f46a3911fa3c0805444483337064      536          1           86.22   \n",
       "3  0000f6ccb0745a6a4b88665a16c9f078      320          1           43.62   \n",
       "4  0004aac84e0df4da2b147fca70cf8255      287          1          196.89   \n",
       "\n",
       "   Cluster  R  F  M rfm_segment  rfm_score  ...  \\\n",
       "0        1  4  1  4   4.01.04.0          9  ...   \n",
       "1        1  4  1  1   4.01.01.0          6  ...   \n",
       "2        0  1  1  2   1.01.02.0          4  ...   \n",
       "3        0  2  1  1   2.01.01.0          4  ...   \n",
       "4        0  2  1  4   2.01.04.0          7  ...   \n",
       "\n",
       "                           order_id                       customer_id  \\\n",
       "0  e22acc9c116caa3f2b7121bbb380d08e  fadbb3709178fc513abc1b2670aa1ad2   \n",
       "1  3594e05a005ac4d06a72673270ef9ec9  4cb282e167ae9234755102258dd52ee8   \n",
       "2  b33ec3b699337181488304f362a6b734  9b3932a6253894a02c1df9d19004239f   \n",
       "3  41272756ecddd9a9ed0180413cc22fb6  914991f0c02ef0843c0e7010c819d642   \n",
       "4  d957021f1127559cd947b62533f484f7  47227568b10f5f58a524a75507e6992c   \n",
       "\n",
       "  order_purchase_timestamp customer_zip_code_prefix customer_city  \\\n",
       "0      2018-05-10 10:56:27                     7787       cajamar   \n",
       "1      2018-05-07 11:11:27                     6053        osasco   \n",
       "2      2017-03-10 21:05:03                    88115      sao jose   \n",
       "3      2017-10-12 20:29:41                    66812         belem   \n",
       "4      2017-11-14 19:45:42                    18040      sorocaba   \n",
       "\n",
       "   customer_state payment_sequential payment_type  payment_installments  \\\n",
       "0              SP                  1  credit_card                     8   \n",
       "1              SP                  1  credit_card                     1   \n",
       "2              SC                  1  credit_card                     8   \n",
       "3              PA                  1  credit_card                     4   \n",
       "4              SP                  1  credit_card                     6   \n",
       "\n",
       "  payment_value  \n",
       "0        141.90  \n",
       "1         27.19  \n",
       "2         86.22  \n",
       "3         43.62  \n",
       "4        196.89  \n",
       "\n",
       "[5 rows x 22 columns]"
      ]
     },
     "execution_count": 89,
     "metadata": {},
     "output_type": "execute_result"
    }
   ],
   "source": [
    "df = rfm.reset_index().merge(data, on=\"customer_unique_id\", how=\"left\")\n",
    "df.head()"
   ]
  },
  {
   "cell_type": "code",
   "execution_count": 114,
   "metadata": {},
   "outputs": [
    {
     "data": {
      "image/png": "[encoded data removed]",
      "text/plain": [
       "<Figure size 1500x800 with 4 Axes>"
      ]
     },
     "metadata": {},
     "output_type": "display_data"
    }
   ],
   "source": [
    "fig, axs = plt.subplots(2, 2, figsize=(15, 8), constrained_layout=True)\n",
    "\n",
    "single_countplot(\n",
    "    df[df[\"Segment\"] == \"Champions\"], axs[0, 0], y=\"customer_state\", top=10\n",
    ")\n",
    "axs[0, 0].set_title(\"Champions customers by state\", color=\"dimgrey\")\n",
    "\n",
    "single_countplot(\n",
    "    df[df[\"Segment\"] == \"Hibernating\"], axs[0, 1], y=\"customer_state\", top=10\n",
    ")\n",
    "axs[0, 1].set_title(\"Hibernating customers by state\", color=\"dimgrey\")\n",
    "\n",
    "single_countplot(\n",
    "    df[df[\"Segment\"] == \"Loyal customers\"], axs[1, 0], y=\"customer_state\", top=10\n",
    ")\n",
    "axs[1, 0].set_title(\"Loyal Customers by state\", color=\"dimgrey\")\n",
    "\n",
    "single_countplot(\n",
    "    df[df[\"Segment\"] == \"New customers\"], axs[1, 1], y=\"customer_state\", top=10\n",
    ")\n",
    "axs[1, 1].set_title(\"New Customers by state\", color=\"dimgrey\")\n",
    "fig.show()"
   ]
  },
  {
   "cell_type": "markdown",
   "metadata": {},
   "source": [
    "A localização do cliente não possui muito significado, sendo impossível separar um cliente de um segmento específico de outro por meio do local, uma vez que o padrão é o mesmo para os segmentos."
   ]
  }
 ],
 "metadata": {
  "kernelspec": {
   "display_name": "base",
   "language": "python",
   "name": "python3"
  },
  "language_info": {
   "codemirror_mode": {
    "name": "ipython",
    "version": 3
   },
   "file_extension": ".py",
   "mimetype": "text/x-python",
   "name": "python",
   "nbconvert_exporter": "python",
   "pygments_lexer": "ipython3",
   "version": "3.10.9"
  }
 },
 "nbformat": 4,
 "nbformat_minor": 2
}
